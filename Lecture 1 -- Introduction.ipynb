{
 "cells": [
  {
   "cell_type": "markdown",
   "metadata": {
    "slideshow": {
     "slide_type": "slide"
    }
   },
   "source": [
    "## Efficient Scientific Computing in Julia (OIST)\n",
    "#### by Valentin Churavy, JuliaLab, CSAIL, MIT\n",
    "\n",
    "![Logo](https://github.com/JuliaLang/julia-logo-graphics/raw/master/images/animated-logo.gif)\n",
    "\n"
   ]
  },
  {
   "cell_type": "markdown",
   "metadata": {
    "slideshow": {
     "slide_type": "slide"
    }
   },
   "source": [
    "# What is Julia?\n",
    "*Walks like Python, talks like Lips, runs like Fortran*\n",
    "- Modern high-level dynamic programming language\n",
    "- Engineered with performance in mind\n",
    "- n-based array access (but opinionated about 1-based)\n",
    "- Julia Manifesto: https://julialang.org/blog/2012/02/why-we-created-julia\n",
    "- Noteworthy differences: https://docs.julialang.org/en/latest/manual/noteworthy-differences/\n",
    "- The Julia promise: Within 2x of C at the ease of Python"
   ]
  },
  {
   "cell_type": "markdown",
   "metadata": {
    "slideshow": {
     "slide_type": "slide"
    }
   },
   "source": [
    "# Why Julia?\n",
    "\n",
    "*Come for the speed, stay for the productivity*\n",
    "\n",
    "- Elegant\n",
    "- Explorable & Understandable\n",
    "- No privileged types/code\n",
    "- No need to switch languages\n",
    "- Code that is close to the mathematics"
   ]
  },
  {
   "cell_type": "markdown",
   "metadata": {
    "slideshow": {
     "slide_type": "slide"
    }
   },
   "source": [
    "# What is the 2 language problem?\n",
    "\n",
    "- You start out proto-typing in one language (high-level, dynamic),\n",
    "- but performance forces you to switch to a different one (low-level, static).\n"
   ]
  },
  {
   "cell_type": "markdown",
   "metadata": {
    "slideshow": {
     "slide_type": "subslide"
    }
   },
   "source": [
    "- For **convinience** use a scripting language (Python, R, Matlab, ...)\n",
    "- but do all the **hard stuff** in a systems language (C, C++, Fortran)"
   ]
  },
  {
   "cell_type": "markdown",
   "metadata": {
    "slideshow": {
     "slide_type": "subslide"
    }
   },
   "source": [
    "Pragmatic for many applications, but has drawbacks\n",
    "- aren't the **hard parts** exactly where you need an **easier** language\n",
    "- creates a **social barrier** -- a wall between users and developers\n",
    "- **\"sandwich problem\"** -- layering of system & user code is expensive\n",
    "- **prohibits** full stack optimisations"
   ]
  },
  {
   "cell_type": "markdown",
   "metadata": {
    "slideshow": {
     "slide_type": "slide"
    }
   },
   "source": [
    "# Resources\n",
    "- Documentation: https://docs.julialang.org/en/stable/\n",
    "- Forum: https://discourse.julialang.org/\n",
    "- Issue tracker: https://github.com/JuliaLang/julia\n",
    "- Join us on Slack: https://slackinvite.julialang.org/\n",
    "- Pkgs: https://juliaobserver.com/ and https://pkg.julialang.org\n",
    "- https://benlauwens.github.io/ThinkJulia.jl/latest/book.html\n",
    "- https://www.youtube.com/channel/UC9IuUwwE2xdjQUT_LMLONoA\n",
    "- Unreasonable effectiveness of Multiple Dispatch https://www.youtube.com/watch?v=HAEgGFqbVkA"
   ]
  },
  {
   "cell_type": "markdown",
   "metadata": {
    "slideshow": {
     "slide_type": "slide"
    }
   },
   "source": [
    "# Setup on the Sango!\n",
    "`module load julia`"
   ]
  },
  {
   "cell_type": "markdown",
   "metadata": {
    "slideshow": {
     "slide_type": "slide"
    }
   },
   "source": [
    "## Best practices for Scientific Code\n",
    "### What is reproducible science:"
   ]
  },
  {
   "cell_type": "markdown",
   "metadata": {
    "slideshow": {
     "slide_type": "fragment"
    }
   },
   "source": [
    "Questions:\n",
    "- Can you recreate the figures in your last paper?\n",
    "- How about the data analysis?\n",
    "- Did you clean the raw data?\n",
    "\n",
    "Automate the boring stuff!\n",
    "https://mikecroucher.github.io/NAG_IYRSC/\n"
   ]
  },
  {
   "cell_type": "markdown",
   "metadata": {
    "slideshow": {
     "slide_type": "subslide"
    }
   },
   "source": [
    "### Questions to ask yourself\n",
    "- Can your code be run on a different machine?\n",
    "- A different operating system?\n",
    "- By a different person?\n",
    "- Without you helping them?"
   ]
  },
  {
   "cell_type": "markdown",
   "metadata": {
    "slideshow": {
     "slide_type": "subslide"
    }
   },
   "source": [
    "### Scientific code needs:\n",
    "- Tests\n",
    "- Documentation\n",
    "- Version control\n",
    "\n",
    "Separate library code from \"analysis\" code. Use Jupyter notebooks for analyisis. \n"
   ]
  },
  {
   "cell_type": "markdown",
   "metadata": {
    "slideshow": {
     "slide_type": "slide"
    }
   },
   "source": [
    "### The version control life cycle\n",
    "\n",
    "1. git? No thanks, I'm scared\n",
    "2. well this is handy\n",
    "3. we're not using git? I'm scared\n",
    "\n",
    "https://twitter.com/bobearth/status/571154995506122755"
   ]
  },
  {
   "cell_type": "markdown",
   "metadata": {
    "slideshow": {
     "slide_type": "slide"
    }
   },
   "source": [
    "### Version control with Github\n",
    "\n",
    "- Put your code online!\n",
    "- Add a license MIT/Apache/GPL\n",
    "- Small changes -- document intent\n",
    "- Use PRs even if you are a sole author\n",
    "- Look into Zenodo to deposit code for a paper"
   ]
  },
  {
   "cell_type": "markdown",
   "metadata": {
    "slideshow": {
     "slide_type": "slide"
    }
   },
   "source": [
    "### What is in a package\n",
    "https://github.com/JuliaLang/Example.jl\n",
    "\n",
    "- CI like Travis/CircleCI/Azure Pipelines/Appveyor\n",
    "- src/Examples.jl\n",
    "- test/runtests.jl\n",
    "- Project.toml\n",
    "- docs with Documenter.jl\n"
   ]
  },
  {
   "cell_type": "markdown",
   "metadata": {
    "slideshow": {
     "slide_type": "slide"
    }
   },
   "source": [
    "\n",
    "### Pkg.jl\n",
    "\n",
    "- TagBot https://github.com/JuliaRegistries/TagBot\n",
    "- Registrator https://github.com/JuliaRegistries/Registrator.jl\n",
    "- Project.toml is a description of dependencies\n",
    "- Manifest.toml is an instantiation of those dependencies"
   ]
  }
 ],
 "metadata": {
  "@webio": {
   "lastCommId": "063e5ecce00a4c1a86b149d9bc85aa26",
   "lastKernelId": "16d342d7-e40e-4489-844b-01831185b226"
  },
  "celltoolbar": "Slideshow",
  "kernelspec": {
   "display_name": "Julia 1.1.1",
   "language": "julia",
   "name": "julia-1.1"
  },
  "language_info": {
   "file_extension": ".jl",
   "mimetype": "application/julia",
   "name": "julia",
   "version": "1.1.1"
  },
  "rise": {
   "scroll": true,
   "theme": "Serif"
  }
 },
 "nbformat": 4,
 "nbformat_minor": 4
}

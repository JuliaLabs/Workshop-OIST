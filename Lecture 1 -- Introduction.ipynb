{
 "cells": [
  {
   "cell_type": "markdown",
   "metadata": {
    "slideshow": {
     "slide_type": "slide"
    }
   },
   "source": [
    "## Efficient Scientific Computing in Julia (OIST)\n",
    "#### by Valentin Churavy, JuliaLab, CSAIL, MIT\n",
    "\n",
    "```\n",
    "               _\n",
    "   _       _ _(_)_     \n",
    "  (_)     | (_) (_)    \n",
    "   _ _   _| |_  __ _   \n",
    "  | | | | | | |/ _` |\n",
    "  | | |_| | | | (_| |\n",
    " _/ |\\__'_|_|_|\\__'_|\n",
    "|__/                 \n",
    "```\n",
    "\n"
   ]
  },
  {
   "cell_type": "markdown",
   "metadata": {
    "slideshow": {
     "slide_type": "slide"
    }
   },
   "source": [
    "# What is Julia?\n",
    "*Walks like Python, talks like Lips, runs like Fortran*\n",
    "- Modern high-level dynamic programming language\n",
    "- Engineered with performance in mind\n",
    "- n-based array access (but opinionated about 1-based)\n",
    "- Julia Manifesto: https://julialang.org/blog/2012/02/why-we-created-julia\n",
    "- Noteworthy differences: https://docs.julialang.org/en/latest/manual/noteworthy-differences/\n",
    "- The Julia promise: Within 2x of C at the ease of Python"
   ]
  },
  {
   "cell_type": "markdown",
   "metadata": {
    "slideshow": {
     "slide_type": "slide"
    }
   },
   "source": [
    "# Why Julia?\n",
    "\n",
    "*Come for the speed, stay for the productivity*\n",
    "\n",
    "- Elegant\n",
    "- Explorable & Understandable\n",
    "- No privileged types/code\n",
    "- No need to switch languages\n",
    "- Code that is close to the mathematics"
   ]
  },
  {
   "cell_type": "markdown",
   "metadata": {
    "slideshow": {
     "slide_type": "slide"
    }
   },
   "source": [
    "# What is the 2 language problem?\n",
    "\n",
    "- You start out proto-typing in one language (high-level, dynamic),\n",
    "- but performance forces you to switch to a different one (low-level, static).\n"
   ]
  },
  {
   "cell_type": "markdown",
   "metadata": {
    "slideshow": {
     "slide_type": "subslide"
    }
   },
   "source": [
    "- For **convinience** use a scripting language (Python, R, Matlab, ...)\n",
    "- but do all the **hard stuff** in a systems language (C, C++, Fortran)"
   ]
  },
  {
   "cell_type": "markdown",
   "metadata": {
    "slideshow": {
     "slide_type": "subslide"
    }
   },
   "source": [
    "Pragmatic for many applications, but has drawbacks\n",
    "- aren't the **hard parts** exactly where you need an **easier** language\n",
    "- creates a **social barrier** -- a wall between users and developers\n",
    "- **\"sandwich problem\"** -- layering of system & user code is expensive\n",
    "- **prohibits** full stack optimisations"
   ]
  },
  {
   "cell_type": "markdown",
   "metadata": {
    "slideshow": {
     "slide_type": "slide"
    }
   },
   "source": [
    "# Resources\n",
    "- Documentation: https://docs.julialang.org/en/stable/\n",
    "- Forum: https://discourse.julialang.org/\n",
    "- Issue tracker: https://github.com/JuliaLang/julia\n",
    "- Join us on Slack: https://slackinvite.julialang.org/\n",
    "- Pkgs: https://juliaobserver.com/ and https://pkg.julialang.org\n",
    "- https://benlauwens.github.io/ThinkJulia.jl/latest/book.html\n",
    "- https://www.youtube.com/channel/UC9IuUwwE2xdjQUT_LMLONoA"
   ]
  },
  {
   "cell_type": "markdown",
   "metadata": {
    "slideshow": {
     "slide_type": "slide"
    }
   },
   "source": [
    "# Setup on the Sango!\n",
    "- **TODO**"
   ]
  },
  {
   "cell_type": "markdown",
   "metadata": {},
   "source": [
    "## Best practices for Scientific Code\n",
    "\n",
    "### What is reproducible science:\n",
    "- Can you recreate the figures in your last paper?\n",
    "- How about the data analysis\n",
    "- Did you clean the raw data\n",
    "\n",
    "Automate the boring stuff. Setup a pipeline that includes the data-analytics and creates the figures from scratch. \n",
    "\n",
    "Can code you have written be exexuted by someone who isnt you? On a machine that isnt your laptop? That doesnt run your OS? withour you helping?\n",
    "\n",
    "Scientific code needs:\n",
    "1. Tests\n",
    "2. Doxumentation\n",
    "3. Version control\n",
    "\n",
    "Separate library code from \"analysis\" code. Use Jupyter notebooks for analyisis. \n",
    "\n",
    "### Github\n",
    "\n",
    "### Tests/CI\n",
    "\n",
    "### Documentation\n",
    "\n",
    "### Pkg.jl"
   ]
  }
 ],
 "metadata": {
  "@webio": {
   "lastCommId": "d36d5070ed5a4c9ea3f0b957aa3829ac",
   "lastKernelId": "63164573-01b6-41a4-9dd3-c80964157f1b"
  },
  "celltoolbar": "Slideshow",
  "kernelspec": {
   "display_name": "Julia 1.1.1",
   "language": "julia",
   "name": "julia-1.1"
  },
  "language_info": {
   "file_extension": ".jl",
   "mimetype": "application/julia",
   "name": "julia",
   "version": "1.1.1"
  },
  "rise": {
   "scroll": true,
   "theme": "Serif"
  }
 },
 "nbformat": 4,
 "nbformat_minor": 4
}

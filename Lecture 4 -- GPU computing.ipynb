{
 "cells": [
  {
   "cell_type": "markdown",
   "metadata": {},
   "source": [
    "# CUDAnative.jl\n",
    "(based on material from Tim Besard)"
   ]
  },
  {
   "cell_type": "markdown",
   "metadata": {},
   "source": [
    "Just another package, no changes to Julia itself."
   ]
  },
  {
   "cell_type": "code",
   "execution_count": 2,
   "metadata": {},
   "outputs": [
    {
     "name": "stderr",
     "output_type": "stream",
     "text": [
      "┌ Info: Precompiling CUDAnative [be33ccc6-a3ff-5ff2-a52e-74243cff1e17]\n",
      "└ @ Base loading.jl:1186\n",
      "┌ Warning: CUDAdrv.jl has not been successfully built, and will not work properly.\n",
      "│ Please run Pkg.build(\"CUDAdrv\") and restart Julia.\n",
      "└ @ CUDAdrv ~/.julia/packages/CUDAdrv/huk2n/src/init.jl:15\n",
      "ERROR: LoadError: CUDAnative.jl has not been built, please run Pkg.build(\"CUDAnative\").\n",
      "Stacktrace:\n",
      " [1] top-level scope at none:0\n",
      " [2] top-level scope at none:2\n",
      "in expression starting at /home/vchuravy/.julia/dev/CUDAnative/src/CUDAnative.jl:11\n"
     ]
    },
    {
     "ename": "ErrorException",
     "evalue": "Failed to precompile CUDAnative [be33ccc6-a3ff-5ff2-a52e-74243cff1e17] to /home/vchuravy/.julia/compiled/v1.0/CUDAnative/4Zu2W.ji.",
     "output_type": "error",
     "traceback": [
      "Failed to precompile CUDAnative [be33ccc6-a3ff-5ff2-a52e-74243cff1e17] to /home/vchuravy/.julia/compiled/v1.0/CUDAnative/4Zu2W.ji.",
      "",
      "Stacktrace:",
      " [1] macro expansion at ./logging.jl:313 [inlined]",
      " [2] compilecache(::Base.PkgId, ::String) at ./loading.jl:1184",
      " [3] macro expansion at ./logging.jl:311 [inlined]",
      " [4] _require(::Base.PkgId) at ./loading.jl:941",
      " [5] require(::Base.PkgId) at ./loading.jl:852",
      " [6] macro expansion at ./logging.jl:311 [inlined]",
      " [7] require(::Module, ::Symbol) at ./loading.jl:834",
      " [8] top-level scope at In[2]:1"
     ]
    }
   ],
   "source": [
    "using CUDAnative"
   ]
  },
  {
   "cell_type": "code",
   "execution_count": 2,
   "metadata": {},
   "outputs": [
    {
     "data": {
      "text/plain": [
       "vadd (generic function with 1 method)"
      ]
     },
     "execution_count": 2,
     "metadata": {},
     "output_type": "execute_result"
    }
   ],
   "source": [
    "function vadd(a, b, c)\n",
    "    i = (blockIdx().x-1) * blockDim().x + threadIdx().x\n",
    "    c[i] = a[i] + b[i]\n",
    "end"
   ]
  },
  {
   "cell_type": "code",
   "execution_count": 3,
   "metadata": {},
   "outputs": [],
   "source": [
    "using CuArrays"
   ]
  },
  {
   "cell_type": "code",
   "execution_count": 4,
   "metadata": {},
   "outputs": [
    {
     "data": {
      "text/plain": [
       "3-element CuArray{Int64,1}:\n",
       " 0\n",
       " 0\n",
       " 0"
      ]
     },
     "execution_count": 4,
     "metadata": {},
     "output_type": "execute_result"
    }
   ],
   "source": [
    "a = CuArray([1,2,3])\n",
    "b = CuArray([4,5,6])\n",
    "c = zero(a)"
   ]
  },
  {
   "cell_type": "code",
   "execution_count": 5,
   "metadata": {},
   "outputs": [
    {
     "data": {
      "text/plain": [
       "3-element CuArray{Int64,1}:\n",
       " 5\n",
       " 7\n",
       " 9"
      ]
     },
     "execution_count": 5,
     "metadata": {},
     "output_type": "execute_result"
    }
   ],
   "source": [
    "@cuda threads=length(a) vadd(a, b, c)\n",
    "c"
   ]
  },
  {
   "cell_type": "markdown",
   "metadata": {},
   "source": [
    "It's fast! We outperform `nvcc` on Rodinia benchmark suite."
   ]
  },
  {
   "cell_type": "markdown",
   "metadata": {},
   "source": [
    "![CUDAnative performance](img/cudanative_perf.png)"
   ]
  },
  {
   "cell_type": "markdown",
   "metadata": {},
   "source": [
    "# CuArrays.jl"
   ]
  },
  {
   "cell_type": "markdown",
   "metadata": {},
   "source": [
    "Array-based abstractions of GPU computations:"
   ]
  },
  {
   "cell_type": "code",
   "execution_count": 7,
   "metadata": {},
   "outputs": [
    {
     "data": {
      "text/plain": [
       "2×2 CuArray{Float64,2}:\n",
       " 0.560497   0.248382 \n",
       " 0.0249621  0.0141561"
      ]
     },
     "execution_count": 7,
     "metadata": {},
     "output_type": "execute_result"
    }
   ],
   "source": [
    "a = CuArray(rand(2,2))\n",
    "b = CuArray(rand(2,2))"
   ]
  },
  {
   "cell_type": "code",
   "execution_count": 8,
   "metadata": {},
   "outputs": [
    {
     "data": {
      "text/plain": [
       "2×2 CuArray{Float64,2}:\n",
       " 0.478548  0.213071\n",
       " 0.221448  0.098413"
      ]
     },
     "execution_count": 8,
     "metadata": {},
     "output_type": "execute_result"
    }
   ],
   "source": [
    "a * b"
   ]
  },
  {
   "cell_type": "markdown",
   "metadata": {},
   "source": [
    "But we have a Julia to GPU compiler! Which makes our abstractions **much more powerful**:"
   ]
  },
  {
   "cell_type": "code",
   "execution_count": 9,
   "metadata": {},
   "outputs": [
    {
     "data": {
      "text/plain": [
       "1.6450283402849906"
      ]
     },
     "execution_count": 9,
     "metadata": {},
     "output_type": "execute_result"
    }
   ],
   "source": [
    "reduce(+, a)"
   ]
  },
  {
   "cell_type": "code",
   "execution_count": 10,
   "metadata": {},
   "outputs": [
    {
     "data": {
      "text/plain": [
       "2×2 CuArray{Float64,2}:\n",
       " 0.47045     0.0805833\n",
       " 0.00976213  0.0012765"
      ]
     },
     "execution_count": 10,
     "metadata": {},
     "output_type": "execute_result"
    }
   ],
   "source": [
    "map((x,y) -> x*y, a, b)"
   ]
  },
  {
   "cell_type": "markdown",
   "metadata": {},
   "source": [
    "Generalized to `broadcast`, where shapes are extended:"
   ]
  },
  {
   "cell_type": "code",
   "execution_count": 11,
   "metadata": {},
   "outputs": [
    {
     "data": {
      "text/plain": [
       "2×2 CuArray{Float64,2}:\n",
       " 0.51599    0.199446  \n",
       " 0.0200414  0.00462107"
      ]
     },
     "execution_count": 11,
     "metadata": {},
     "output_type": "execute_result"
    }
   ],
   "source": [
    "c = CuArray(rand(2))\n",
    "broadcast((x,y) -> x*y, a, c)"
   ]
  },
  {
   "cell_type": "markdown",
   "metadata": {},
   "source": [
    "Convenient short-hand syntax:"
   ]
  },
  {
   "cell_type": "code",
   "execution_count": 12,
   "metadata": {},
   "outputs": [
    {
     "data": {
      "text/plain": [
       "2×2 CuArray{Float64,2}:\n",
       " 0.51599    0.199446  \n",
       " 0.0200414  0.00462107"
      ]
     },
     "execution_count": 12,
     "metadata": {},
     "output_type": "execute_result"
    }
   ],
   "source": [
    "a .* c"
   ]
  }
 ],
 "metadata": {
  "@webio": {
   "lastCommId": "cb788d449b1449bbb31c3362e96210d0",
   "lastKernelId": "df987d54-1079-4770-aed3-1517456c27fa"
  },
  "kernelspec": {
   "display_name": "Julia 1.1.1",
   "language": "julia",
   "name": "julia-1.1"
  },
  "language_info": {
   "file_extension": ".jl",
   "mimetype": "application/julia",
   "name": "julia",
   "version": "1.1.1"
  }
 },
 "nbformat": 4,
 "nbformat_minor": 4
}

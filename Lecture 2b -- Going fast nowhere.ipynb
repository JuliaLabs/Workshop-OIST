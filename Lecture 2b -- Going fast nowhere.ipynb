{
 "cells": [
  {
   "cell_type": "markdown",
   "metadata": {
    "slideshow": {
     "slide_type": "slide"
    }
   },
   "source": [
    "# Understandable performance\n",
    "*Going fast, nowhere*"
   ]
  },
  {
   "cell_type": "markdown",
   "metadata": {
    "slideshow": {
     "slide_type": "subslide"
    }
   },
   "source": [
    "## A note on benchmarking\n",
    "*Premature optimization is the root of all evil* & *If you don't measure you won't improve*\n",
    "\n",
    "### Tools\n",
    "1. BenchmarkTools.jl https://github.com/JuliaCI/BenchmarkTools.jl\n",
    "2. Profiler https://docs.julialang.org/en/latest/manual/profile/\n",
    "3. ProfileView.jl https://github.com/timholy/ProfileView.jl\n",
    "4. VTunes/Perf/OProfile https://docs.julialang.org/en/latest/manual/profile/#External-Profiling-1"
   ]
  },
  {
   "cell_type": "markdown",
   "metadata": {
    "slideshow": {
     "slide_type": "subslide"
    }
   },
   "source": [
    "## BenchmarkTools.jl\n",
    "Solid package that tries to eliminate common pitfalls in performance measurment.\n",
    "- `@benchmark` macro that will repeatedly evaluate your code to gain enough samples\n",
    "- Caveat: You probably want to escape `$` your input data"
   ]
  },
  {
   "cell_type": "code",
   "execution_count": 2,
   "metadata": {
    "slideshow": {
     "slide_type": "skip"
    }
   },
   "outputs": [],
   "source": [
    "data = rand(2^10);"
   ]
  },
  {
   "cell_type": "code",
   "execution_count": 5,
   "metadata": {
    "slideshow": {
     "slide_type": "fragment"
    }
   },
   "outputs": [
    {
     "data": {
      "text/plain": [
       "BenchmarkTools.Trial: \n",
       "  memory estimate:  0 bytes\n",
       "  allocs estimate:  0\n",
       "  --------------\n",
       "  minimum time:     76.940 ns (0.00% GC)\n",
       "  median time:      76.966 ns (0.00% GC)\n",
       "  mean time:        79.347 ns (0.00% GC)\n",
       "  maximum time:     492.186 ns (0.00% GC)\n",
       "  --------------\n",
       "  samples:          10000\n",
       "  evals/sample:     970"
      ]
     },
     "execution_count": 5,
     "metadata": {},
     "output_type": "execute_result"
    }
   ],
   "source": [
    "using BenchmarkTools\n",
    "@benchmark sum($data)"
   ]
  },
  {
   "cell_type": "markdown",
   "metadata": {
    "slideshow": {
     "slide_type": "subslide"
    }
   },
   "source": [
    "![Compiler](compiler.png)"
   ]
  },
  {
   "cell_type": "markdown",
   "metadata": {
    "slideshow": {
     "slide_type": "subslide"
    }
   },
   "source": [
    "![Compiler Stages](compiler-stages.png)"
   ]
  },
  {
   "cell_type": "markdown",
   "metadata": {
    "slideshow": {
     "slide_type": "subslide"
    }
   },
   "source": [
    "## Figuring out what is happening\n",
    "The stages of the compiler\n",
    "- `@code_lowered`\n",
    "- `@code_typed` & `@code_warntype`\n",
    "- `@code_llvm`\n",
    "- `@code_native`\n",
    "\n",
    "Where is a function defined\n",
    "`@which` & `@edit`"
   ]
  },
  {
   "cell_type": "code",
   "execution_count": 1,
   "metadata": {
    "slideshow": {
     "slide_type": "skip"
    }
   },
   "outputs": [
    {
     "name": "stderr",
     "output_type": "stream",
     "text": [
      "┌ Info: Recompiling stale cache file /home/vchuravy/.julia/compiled/v1.0/LLVM/e8NBy.ji for LLVM [929cbde3-209d-540e-8aea-75f648917ca0]\n",
      "└ @ Base loading.jl:1184\n"
     ]
    },
    {
     "data": {
      "text/plain": [
       "escape (generic function with 1 method)"
      ]
     },
     "execution_count": 1,
     "metadata": {},
     "output_type": "execute_result"
    }
   ],
   "source": [
    "##########################\n",
    "# Low-level benchmarking #\n",
    "##########################\n",
    "using LLVM\n",
    "using LLVM.Interop\n",
    "\n",
    " \"\"\"\n",
    "    clobber()\n",
    " Force the compiler to flush pending writes to global memory.\n",
    "Acts as an effective read/write barrier.\n",
    "\"\"\"\n",
    "@inline clobber() = @asmcall(\"\", \"~{memory}\", true) \n",
    "\n",
    "\"\"\"\n",
    "    escape(val)\n",
    " The `escape` function can be used to prevent a value or\n",
    "expression from being optimized away by the compiler. This function is\n",
    "intended to add little to no overhead.\n",
    "See: https://youtu.be/nXaxk27zwlk?t=2441\n",
    "\"\"\"\n",
    "@inline escape(val::T) where T = @asmcall(\"\", \"X,~{memory}\", true, Nothing, Tuple{T}, val)"
   ]
  },
  {
   "cell_type": "markdown",
   "metadata": {
    "slideshow": {
     "slide_type": "slide"
    }
   },
   "source": [
    "# A simple example first counting"
   ]
  },
  {
   "cell_type": "code",
   "execution_count": 3,
   "metadata": {
    "slideshow": {
     "slide_type": "fragment"
    }
   },
   "outputs": [
    {
     "data": {
      "text/plain": [
       "f (generic function with 1 method)"
      ]
     },
     "execution_count": 3,
     "metadata": {},
     "output_type": "execute_result"
    }
   ],
   "source": [
    "function f(N)\n",
    "    acc = 0\n",
    "    for i in 1:N\n",
    "        acc += 1\n",
    "    end\n",
    "    return acc\n",
    "end"
   ]
  },
  {
   "cell_type": "code",
   "execution_count": 68,
   "metadata": {
    "slideshow": {
     "slide_type": "fragment"
    }
   },
   "outputs": [
    {
     "data": {
      "text/plain": [
       "BenchmarkTools.Trial: \n",
       "  memory estimate:  0 bytes\n",
       "  allocs estimate:  0\n",
       "  --------------\n",
       "  minimum time:     1.269 ns (0.00% GC)\n",
       "  median time:      1.454 ns (0.00% GC)\n",
       "  mean time:        1.476 ns (0.00% GC)\n",
       "  maximum time:     18.439 ns (0.00% GC)\n",
       "  --------------\n",
       "  samples:          10000\n",
       "  evals/sample:     1000"
      ]
     },
     "execution_count": 68,
     "metadata": {},
     "output_type": "execute_result"
    }
   ],
   "source": [
    "N = 100_000_000\n",
    "result = @benchmark f($N)"
   ]
  },
  {
   "cell_type": "code",
   "execution_count": 69,
   "metadata": {
    "slideshow": {
     "slide_type": "subslide"
    }
   },
   "outputs": [
    {
     "data": {
      "text/plain": [
       "7.880220646178093e16"
      ]
     },
     "execution_count": 69,
     "metadata": {},
     "output_type": "execute_result"
    }
   ],
   "source": [
    "t = time(minimum(result)) # in ns\n",
    "N / (t * 1e-9) # in Hz"
   ]
  },
  {
   "cell_type": "markdown",
   "metadata": {
    "slideshow": {
     "slide_type": "fragment"
    }
   },
   "source": [
    "So we are doing 100 million additions in 1.2ns.\n",
    "So our processor is operating at 70 PHz..."
   ]
  },
  {
   "cell_type": "markdown",
   "metadata": {
    "slideshow": {
     "slide_type": "fragment"
    }
   },
   "source": [
    "We wish...\n",
    "\n",
    "What is going on?"
   ]
  },
  {
   "cell_type": "code",
   "execution_count": 67,
   "metadata": {},
   "outputs": [
    {
     "data": {
      "text/plain": [
       "BenchmarkTools.Trial: \n",
       "  memory estimate:  0 bytes\n",
       "  allocs estimate:  0\n",
       "  --------------\n",
       "  minimum time:     1.268 ns (0.00% GC)\n",
       "  median time:      1.540 ns (0.00% GC)\n",
       "  mean time:        1.470 ns (0.00% GC)\n",
       "  maximum time:     18.724 ns (0.00% GC)\n",
       "  --------------\n",
       "  samples:          10000\n",
       "  evals/sample:     1000"
      ]
     },
     "execution_count": 67,
     "metadata": {},
     "output_type": "execute_result"
    }
   ],
   "source": [
    "@benchmark f($(10*N))"
   ]
  },
  {
   "cell_type": "code",
   "execution_count": 30,
   "metadata": {
    "slideshow": {
     "slide_type": "subslide"
    }
   },
   "outputs": [
    {
     "data": {
      "text/plain": [
       "CodeInfo(\n",
       "\u001b[90m\u001b[77G│\u001b[1G\u001b[39m\u001b[90m2 \u001b[39m1 ─       acc = 0\n",
       "\u001b[90m\u001b[77G│\u001b[1G\u001b[39m\u001b[90m3 \u001b[39m│   %2  = 1:N\n",
       "\u001b[90m\u001b[77G│\u001b[1G\u001b[39m\u001b[90m  \u001b[39m│         #temp# = (Base.iterate)(%2)\n",
       "\u001b[90m\u001b[77G│\u001b[1G\u001b[39m\u001b[90m  \u001b[39m│   %4  = #temp# === nothing\n",
       "\u001b[90m\u001b[77G│\u001b[1G\u001b[39m\u001b[90m  \u001b[39m│   %5  = (Base.not_int)(%4)\n",
       "\u001b[90m\u001b[77G│\u001b[1G\u001b[39m\u001b[90m  \u001b[39m└──       goto #4 if not %5\n",
       "\u001b[90m\u001b[77G│\u001b[1G\u001b[39m\u001b[90m  \u001b[39m2 ┄ %7  = #temp#\n",
       "\u001b[90m\u001b[77G│\u001b[1G\u001b[39m\u001b[90m  \u001b[39m│         i = (Core.getfield)(%7, 1)\n",
       "\u001b[90m\u001b[77G│\u001b[1G\u001b[39m\u001b[90m  \u001b[39m│   %9  = (Core.getfield)(%7, 2)\n",
       "\u001b[90m\u001b[77G│\u001b[1G\u001b[39m\u001b[90m4 \u001b[39m│         acc = acc + 1\n",
       "\u001b[90m\u001b[77G│\u001b[1G\u001b[39m\u001b[90m  \u001b[39m│         #temp# = (Base.iterate)(%2, %9)\n",
       "\u001b[90m\u001b[77G│\u001b[1G\u001b[39m\u001b[90m  \u001b[39m│   %12 = #temp# === nothing\n",
       "\u001b[90m\u001b[77G│\u001b[1G\u001b[39m\u001b[90m  \u001b[39m│   %13 = (Base.not_int)(%12)\n",
       "\u001b[90m\u001b[77G│\u001b[1G\u001b[39m\u001b[90m  \u001b[39m└──       goto #4 if not %13\n",
       "\u001b[90m\u001b[77G│\u001b[1G\u001b[39m\u001b[90m  \u001b[39m3 ─       goto #2\n",
       "\u001b[90m\u001b[77G│\u001b[1G\u001b[39m\u001b[90m6 \u001b[39m4 ─       return acc\n",
       ")"
      ]
     },
     "execution_count": 30,
     "metadata": {},
     "output_type": "execute_result"
    }
   ],
   "source": [
    "@code_lowered f(N)"
   ]
  },
  {
   "cell_type": "code",
   "execution_count": 31,
   "metadata": {
    "slideshow": {
     "slide_type": "subslide"
    }
   },
   "outputs": [
    {
     "data": {
      "text/plain": [
       "CodeInfo(\n",
       "\u001b[90m\u001b[77G│\u001b[1G\u001b[39m\u001b[90m2 \u001b[39m1 ─       (acc = 0)\u001b[90m::Const(0, false)\u001b[39m\n",
       "\u001b[90m\u001b[77G│\u001b[1G\u001b[39m\u001b[90m3 \u001b[39m│   %2  = (1:N)\u001b[36m::UnitRange{Int64}\u001b[39m\n",
       "\u001b[90m\u001b[77G│\u001b[1G\u001b[39m\u001b[90m  \u001b[39m│         (#temp# = (Base.iterate)(%2))\u001b[90m::Union{Nothing, Tuple{Int64,Int64}}\u001b[39m\n",
       "\u001b[90m\u001b[77G│\u001b[1G\u001b[39m\u001b[90m  \u001b[39m│   %4  = (#temp# === nothing)\u001b[36m::Bool\u001b[39m\n",
       "\u001b[90m\u001b[77G│\u001b[1G\u001b[39m\u001b[90m  \u001b[39m│   %5  = (Base.not_int)(%4)\u001b[36m::Bool\u001b[39m\n",
       "\u001b[90m\u001b[77G│\u001b[1G\u001b[39m\u001b[90m  \u001b[39m└──       goto #4 if not %5\n",
       "\u001b[90m\u001b[77G│\u001b[1G\u001b[39m\u001b[90m  \u001b[39m2 ┄ %7  = #temp#::Tuple{Int64,Int64}\u001b[36m::Tuple{Int64,Int64}\u001b[39m\n",
       "\u001b[90m\u001b[77G│\u001b[1G\u001b[39m\u001b[90m  \u001b[39m│         (i = (Core.getfield)(%7, 1))\u001b[90m::Int64\u001b[39m\n",
       "\u001b[90m\u001b[77G│\u001b[1G\u001b[39m\u001b[90m  \u001b[39m│   %9  = (Core.getfield)(%7, 2)\u001b[36m::Int64\u001b[39m\n",
       "\u001b[90m\u001b[77G│\u001b[1G\u001b[39m\u001b[90m4 \u001b[39m│         (acc = acc + 1)\u001b[90m::Int64\u001b[39m\n",
       "\u001b[90m\u001b[77G│\u001b[1G\u001b[39m\u001b[90m  \u001b[39m│         (#temp# = (Base.iterate)(%2, %9))\u001b[90m::Union{Nothing, Tuple{Int64,Int64}}\u001b[39m\n",
       "\u001b[90m\u001b[77G│\u001b[1G\u001b[39m\u001b[90m  \u001b[39m│   %12 = (#temp# === nothing)\u001b[36m::Bool\u001b[39m\n",
       "\u001b[90m\u001b[77G│\u001b[1G\u001b[39m\u001b[90m  \u001b[39m│   %13 = (Base.not_int)(%12)\u001b[36m::Bool\u001b[39m\n",
       "\u001b[90m\u001b[77G│\u001b[1G\u001b[39m\u001b[90m  \u001b[39m└──       goto #4 if not %13\n",
       "\u001b[90m\u001b[77G│\u001b[1G\u001b[39m\u001b[90m  \u001b[39m3 ─       goto #2\n",
       "\u001b[90m\u001b[77G│\u001b[1G\u001b[39m\u001b[90m6 \u001b[39m4 ─       return acc\n",
       ") => Int64"
      ]
     },
     "execution_count": 31,
     "metadata": {},
     "output_type": "execute_result"
    }
   ],
   "source": [
    "@code_typed optimize=false f(N)"
   ]
  },
  {
   "cell_type": "code",
   "execution_count": 32,
   "metadata": {
    "slideshow": {
     "slide_type": "subslide"
    }
   },
   "outputs": [
    {
     "data": {
      "text/plain": [
       "CodeInfo(\n",
       "\u001b[90m\u001b[55G│╻╷╷╷╷ Colon\u001b[1G\u001b[39m\u001b[90m3 \u001b[39m1 ── %1  = (Base.sle_int)(1, N)\u001b[36m::Bool\u001b[39m\n",
       "\u001b[90m\u001b[55G││╻     Type\u001b[1G\u001b[39m\u001b[90m  \u001b[39m│          (Base.sub_int)(N, 1)\u001b[90m::Int64\u001b[39m\n",
       "\u001b[90m\u001b[55G│││┃     unitrange_last\u001b[1G\u001b[39m\u001b[90m  \u001b[39m│    %3  = (Base.ifelse)(%1, N, 0)\u001b[36m::Int64\u001b[39m\n",
       "\u001b[90m\u001b[55G││╻╷╷   isempty\u001b[1G\u001b[39m\u001b[90m  \u001b[39m│    %4  = (Base.slt_int)(%3, 1)\u001b[36m::Bool\u001b[39m\n",
       "\u001b[90m\u001b[55G││    \u001b[1G\u001b[39m\u001b[90m  \u001b[39m└───       goto #3 if not %4\n",
       "\u001b[90m\u001b[55G││    \u001b[1G\u001b[39m\u001b[90m  \u001b[39m2 ──       goto #4\n",
       "\u001b[90m\u001b[55G││    \u001b[1G\u001b[39m\u001b[90m  \u001b[39m3 ──       goto #4\n",
       "\u001b[90m\u001b[55G│     \u001b[1G\u001b[39m\u001b[90m  \u001b[39m4 ┄─ %8  = φ (#2 => true, #3 => false)\u001b[36m::Bool\u001b[39m\n",
       "\u001b[90m\u001b[55G│     \u001b[1G\u001b[39m\u001b[90m  \u001b[39m│    %9  = φ (#3 => 1)\u001b[36m::Int64\u001b[39m\n",
       "\u001b[90m\u001b[55G│     \u001b[1G\u001b[39m\u001b[90m  \u001b[39m│    %10 = (Base.not_int)(%8)\u001b[36m::Bool\u001b[39m\n",
       "\u001b[90m\u001b[55G│     \u001b[1G\u001b[39m\u001b[90m  \u001b[39m└───       goto #10 if not %10\n",
       "\u001b[90m\u001b[55G│     \u001b[1G\u001b[39m\u001b[90m  \u001b[39m5 ┄─ %12 = φ (#4 => 0, #9 => %14)\u001b[36m::Int64\u001b[39m\n",
       "\u001b[90m\u001b[55G│     \u001b[1G\u001b[39m\u001b[90m  \u001b[39m│    %13 = φ (#4 => %9, #9 => %20)\u001b[36m::Int64\u001b[39m\n",
       "\u001b[90m\u001b[55G│╻     +\u001b[1G\u001b[39m\u001b[90m4 \u001b[39m│    %14 = (Base.add_int)(%12, 1)\u001b[36m::Int64\u001b[39m\n",
       "\u001b[90m\u001b[55G││╻     ==\u001b[1G\u001b[39m\u001b[90m  \u001b[39m│    %15 = (%13 === %3)\u001b[36m::Bool\u001b[39m\n",
       "\u001b[90m\u001b[55G││    \u001b[1G\u001b[39m\u001b[90m  \u001b[39m└───       goto #7 if not %15\n",
       "\u001b[90m\u001b[55G││    \u001b[1G\u001b[39m\u001b[90m  \u001b[39m6 ──       goto #8\n",
       "\u001b[90m\u001b[55G││╻     +\u001b[1G\u001b[39m\u001b[90m  \u001b[39m7 ── %18 = (Base.add_int)(%13, 1)\u001b[36m::Int64\u001b[39m\n",
       "\u001b[90m\u001b[55G│╻     iterate\u001b[1G\u001b[39m\u001b[90m  \u001b[39m└───       goto #8\n",
       "\u001b[90m\u001b[55G│     \u001b[1G\u001b[39m\u001b[90m  \u001b[39m8 ┄─ %20 = φ (#7 => %18)\u001b[36m::Int64\u001b[39m\n",
       "\u001b[90m\u001b[55G│     \u001b[1G\u001b[39m\u001b[90m  \u001b[39m│    %21 = φ (#6 => true, #7 => false)\u001b[36m::Bool\u001b[39m\n",
       "\u001b[90m\u001b[55G│     \u001b[1G\u001b[39m\u001b[90m  \u001b[39m│    %22 = (Base.not_int)(%21)\u001b[36m::Bool\u001b[39m\n",
       "\u001b[90m\u001b[55G│     \u001b[1G\u001b[39m\u001b[90m  \u001b[39m└───       goto #10 if not %22\n",
       "\u001b[90m\u001b[55G│     \u001b[1G\u001b[39m\u001b[90m  \u001b[39m9 ──       goto #5\n",
       "\u001b[90m\u001b[55G│     \u001b[1G\u001b[39m\u001b[90m6 \u001b[39m10 ─ %25 = φ (#8 => %14, #4 => 0)\u001b[36m::Int64\u001b[39m\n",
       "\u001b[90m\u001b[55G│     \u001b[1G\u001b[39m\u001b[90m  \u001b[39m└───       return %25\n",
       ") => Int64"
      ]
     },
     "execution_count": 32,
     "metadata": {},
     "output_type": "execute_result"
    }
   ],
   "source": [
    "@code_typed optimize=true f(N)"
   ]
  },
  {
   "cell_type": "code",
   "execution_count": 33,
   "metadata": {
    "slideshow": {
     "slide_type": "subslide"
    }
   },
   "outputs": [
    {
     "name": "stdout",
     "output_type": "stream",
     "text": [
      "\n",
      "; Function f\n",
      "; Location: In[3]:2\n",
      "define i64 @julia_f_37380(i64) {\n",
      "top:\n",
      "  %1 = call %jl_value_t*** @julia.ptls_states()\n",
      "  %2 = bitcast %jl_value_t*** %1 to %jl_value_t addrspace(10)**\n",
      "  %3 = getelementptr inbounds %jl_value_t addrspace(10)*, %jl_value_t addrspace(10)** %2, i64 3\n",
      "  %4 = bitcast %jl_value_t addrspace(10)** %3 to i64**\n",
      "  %5 = load i64*, i64** %4\n",
      "; Location: In[3]:3\n",
      "; Function Colon; {\n",
      "; Location: range.jl:5\n",
      "; Function Type; {\n",
      "; Location: range.jl:255\n",
      "; Function unitrange_last; {\n",
      "; Location: range.jl:260\n",
      "; Function >=; {\n",
      "; Location: operators.jl:333\n",
      "; Function <=; {\n",
      "; Location: int.jl:428\n",
      "  %6 = icmp sle i64 1, %0\n",
      "  %7 = zext i1 %6 to i8\n",
      ";}}\n",
      "; Function -; {\n",
      "; Location: int.jl:52\n",
      "  %8 = sub i64 %0, 1\n",
      ";}\n",
      "  %9 = trunc i8 %7 to i1\n",
      "  %10 = xor i1 %9, true\n",
      "  %11 = select i1 %10, i64 0, i64 %0\n",
      ";}}}\n",
      "; Function iterate; {\n",
      "; Location: range.jl:571\n",
      "; Function isempty; {\n",
      "; Location: range.jl:455\n",
      "; Function >; {\n",
      "; Location: operators.jl:286\n",
      "; Function <; {\n",
      "; Location: int.jl:49\n",
      "  %12 = icmp slt i64 %11, 1\n",
      "  %13 = zext i1 %12 to i8\n",
      ";}}}\n",
      "  %14 = trunc i8 %13 to i1\n",
      "  %15 = xor i1 %14, true\n",
      "  br i1 %15, label %L7, label %L6\n",
      "\n",
      "L6:                                               ; preds = %top\n",
      "  br label %L8\n",
      "\n",
      "L7:                                               ; preds = %top\n",
      "  br label %L8\n",
      "\n",
      "L8:                                               ; preds = %L7, %L6\n",
      "  %value_phi = phi i8 [ 1, %L6 ], [ 0, %L7 ]\n",
      "  %value_phi1 = phi i64 [ 1, %L7 ], [ undef, %L6 ]\n",
      ";}\n",
      "  %16 = xor i8 %value_phi, 1\n",
      "  %17 = trunc i8 %16 to i1\n",
      "  %18 = xor i1 %17, true\n",
      "  br i1 %18, label %L8.L25_crit_edge, label %L8.L12_crit_edge\n",
      "\n",
      "L8.L25_crit_edge:                                 ; preds = %L8\n",
      "  br label %L25\n",
      "\n",
      "L8.L12_crit_edge:                                 ; preds = %L8\n",
      "  br label %L12\n",
      "\n",
      "L12:                                              ; preds = %L8.L12_crit_edge, %L24\n",
      "  %value_phi2 = phi i64 [ 0, %L8.L12_crit_edge ], [ %19, %L24 ]\n",
      "  %value_phi3 = phi i64 [ %value_phi1, %L8.L12_crit_edge ], [ %value_phi4, %L24 ]\n",
      "; Location: In[3]:4\n",
      "; Function +; {\n",
      "; Location: int.jl:53\n",
      "  %19 = add i64 %value_phi2, 1\n",
      ";}\n",
      "; Function iterate; {\n",
      "; Location: range.jl:575\n",
      "; Function ==; {\n",
      "; Location: promotion.jl:425\n",
      "  %20 = icmp eq i64 %value_phi3, %11\n",
      "  %21 = zext i1 %20 to i8\n",
      ";}\n",
      "  %22 = trunc i8 %21 to i1\n",
      "  %23 = xor i1 %22, true\n",
      "  br i1 %23, label %L18, label %L17\n",
      "\n",
      "L17:                                              ; preds = %L12\n",
      "  br label %L20\n",
      "\n",
      "L18:                                              ; preds = %L12\n",
      "; Location: range.jl:576\n",
      "; Function +; {\n",
      "; Location: int.jl:53\n",
      "  %24 = add i64 %value_phi3, 1\n",
      ";}\n",
      "; Location: range.jl:577\n",
      "  br label %L20\n",
      "\n",
      "L20:                                              ; preds = %L18, %L17\n",
      "  %value_phi4 = phi i64 [ %24, %L18 ], [ undef, %L17 ]\n",
      "  %value_phi5 = phi i8 [ 1, %L17 ], [ 0, %L18 ]\n",
      ";}\n",
      "  %25 = xor i8 %value_phi5, 1\n",
      "  %26 = trunc i8 %25 to i1\n",
      "  %27 = xor i1 %26, true\n",
      "  br i1 %27, label %L20.L25_crit_edge, label %L24\n",
      "\n",
      "L20.L25_crit_edge:                                ; preds = %L20\n",
      "  br label %L25\n",
      "\n",
      "L24:                                              ; preds = %L20\n",
      "  br label %L12\n",
      "\n",
      "L25:                                              ; preds = %L8.L25_crit_edge, %L20.L25_crit_edge\n",
      "  %value_phi6 = phi i64 [ %19, %L20.L25_crit_edge ], [ 0, %L8.L25_crit_edge ]\n",
      "; Location: In[3]:6\n",
      "  ret i64 %value_phi6\n",
      "}\n"
     ]
    }
   ],
   "source": [
    "@code_llvm optimize=false f(10)"
   ]
  },
  {
   "cell_type": "code",
   "execution_count": 34,
   "metadata": {
    "slideshow": {
     "slide_type": "subslide"
    }
   },
   "outputs": [
    {
     "name": "stdout",
     "output_type": "stream",
     "text": [
      "\n",
      "; Function f\n",
      "; Location: In[3]:2\n",
      "define i64 @julia_f_37380(i64) {\n",
      "top:\n",
      "; Location: In[3]:3\n",
      "; Function Colon; {\n",
      "; Location: range.jl:5\n",
      "; Function Type; {\n",
      "; Location: range.jl:255\n",
      "; Function unitrange_last; {\n",
      "; Location: range.jl:260\n",
      "; Function >=; {\n",
      "; Location: operators.jl:333\n",
      "; Function <=; {\n",
      "; Location: int.jl:428\n",
      "  %1 = icmp sgt i64 %0, 0\n",
      ";}}}}}\n",
      "  %spec.select = select i1 %1, i64 %0, i64 0\n",
      "; Location: In[3]:6\n",
      "  ret i64 %spec.select\n",
      "}\n"
     ]
    }
   ],
   "source": [
    "@code_llvm optimize=true f(10)"
   ]
  },
  {
   "cell_type": "code",
   "execution_count": 36,
   "metadata": {
    "slideshow": {
     "slide_type": "subslide"
    }
   },
   "outputs": [
    {
     "name": "stdout",
     "output_type": "stream",
     "text": [
      "\t.text\n",
      "; Function f {\n",
      "; Location: In[3]:2\n",
      "\tmovq\t%rdi, %rax\n",
      "\tsarq\t$63, %rax\n",
      "\tandnq\t%rdi, %rax, %rax\n",
      "; Location: In[3]:6\n",
      "\tretq\n",
      "\tnopl\t(%rax)\n",
      ";}\n"
     ]
    }
   ],
   "source": [
    "@code_native f(10)"
   ]
  },
  {
   "cell_type": "markdown",
   "metadata": {
    "slideshow": {
     "slide_type": "subslide"
    }
   },
   "source": [
    "# Conclusion\n",
    "\n",
    "LLVM realised that our loop.\n",
    "\n",
    "```julia\n",
    "for i in 1:N\n",
    "  acc += 1\n",
    "end\n",
    "```\n",
    "\n",
    "Just ended up being $acc = 1 * N$"
   ]
  },
  {
   "cell_type": "markdown",
   "metadata": {
    "slideshow": {
     "slide_type": "subslide"
    }
   },
   "source": [
    "# Exercise\n",
    "\n",
    "What happens with:\n",
    "\n",
    "```julia\n",
    "function h(N)\n",
    "    acc = 0.0\n",
    "    for i in 1:N\n",
    "        acc += 1.0\n",
    "    end\n",
    "    acc\n",
    "end\n",
    "```\n",
    "\n",
    "and\n",
    "\n",
    "```julia\n",
    "function g(N)\n",
    "    acc = 0\n",
    "    for i in 1:N\n",
    "        acc += 1.0\n",
    "    end\n",
    "    acc\n",
    "end\n",
    "```\n",
    "    "
   ]
  },
  {
   "cell_type": "code",
   "execution_count": 53,
   "metadata": {
    "slideshow": {
     "slide_type": "skip"
    }
   },
   "outputs": [
    {
     "data": {
      "text/plain": [
       "h (generic function with 1 method)"
      ]
     },
     "execution_count": 53,
     "metadata": {},
     "output_type": "execute_result"
    }
   ],
   "source": [
    "function h(N)\n",
    "    acc = 0.0\n",
    "    for i in 1:N\n",
    "        acc += 1.0\n",
    "    end\n",
    "    acc\n",
    "end"
   ]
  },
  {
   "cell_type": "code",
   "execution_count": 55,
   "metadata": {
    "slideshow": {
     "slide_type": "subslide"
    }
   },
   "outputs": [
    {
     "name": "stdout",
     "output_type": "stream",
     "text": [
      "\t.text\n",
      "; Function h {\n",
      "; Location: In[53]:2\n",
      "\tvxorpd\t%xmm0, %xmm0, %xmm0\n",
      "; Location: In[53]:3\n",
      "; Function Colon; {\n",
      "; Location: range.jl:5\n",
      "; Function Type; {\n",
      "; Location: range.jl:255\n",
      "; Function unitrange_last; {\n",
      "; Location: range.jl:260\n",
      "; Function >=; {\n",
      "; Location: operators.jl:333\n",
      "; Function <=; {\n",
      "; Location: int.jl:428\n",
      "\ttestq\t%rdi, %rdi\n",
      ";}}}}}\n",
      "\tjle\tL42\n",
      "\tmovabsq\t$139722268546304, %rax  # imm = 0x7F13A02F1500\n",
      "\tvmovsd\t(%rax), %xmm1           # xmm1 = mem[0],zero\n",
      "\tnopw\t(%rax,%rax)\n",
      "; Location: In[53]:4\n",
      "; Function +; {\n",
      "; Location: float.jl:395\n",
      "L32:\n",
      "\tvaddsd\t%xmm1, %xmm0, %xmm0\n",
      ";}\n",
      "; Function iterate; {\n",
      "; Location: range.jl:575\n",
      "; Function ==; {\n",
      "; Location: promotion.jl:425\n",
      "\taddq\t$-1, %rdi\n",
      ";}}\n",
      "\tjne\tL32\n",
      "; Location: In[53]:6\n",
      "L42:\n",
      "\tretq\n",
      "\tnopl\t(%rax,%rax)\n",
      ";}\n"
     ]
    }
   ],
   "source": [
    "@code_native h(10)"
   ]
  },
  {
   "cell_type": "code",
   "execution_count": 56,
   "metadata": {
    "slideshow": {
     "slide_type": "skip"
    }
   },
   "outputs": [
    {
     "data": {
      "text/plain": [
       "g (generic function with 1 method)"
      ]
     },
     "execution_count": 56,
     "metadata": {},
     "output_type": "execute_result"
    }
   ],
   "source": [
    "function g(N)\n",
    "    acc = 0\n",
    "    for i in 1:N\n",
    "        acc += 1.0\n",
    "    end\n",
    "    acc\n",
    "end"
   ]
  },
  {
   "cell_type": "code",
   "execution_count": 57,
   "metadata": {
    "slideshow": {
     "slide_type": "slide"
    }
   },
   "outputs": [
    {
     "name": "stdout",
     "output_type": "stream",
     "text": [
      "Body\u001b[91m\u001b[1m::Union{Float64, Int64}\u001b[22m\u001b[39m\n",
      "\u001b[90m\u001b[55G│╻╷╷╷╷ Colon\u001b[1G\u001b[39m\u001b[90m3 \u001b[39m1 ── %1  = (Base.sle_int)(1, N)\u001b[36m::Bool\u001b[39m\n",
      "\u001b[90m\u001b[55G││╻     Type\u001b[1G\u001b[39m\u001b[90m  \u001b[39m│          (Base.sub_int)(N, 1)\n",
      "\u001b[90m\u001b[55G│││┃     unitrange_last\u001b[1G\u001b[39m\u001b[90m  \u001b[39m│    %3  = (Base.ifelse)(%1, N, 0)\u001b[36m::Int64\u001b[39m\n",
      "\u001b[90m\u001b[55G││╻╷╷   isempty\u001b[1G\u001b[39m\u001b[90m  \u001b[39m│    %4  = (Base.slt_int)(%3, 1)\u001b[36m::Bool\u001b[39m\n",
      "\u001b[90m\u001b[55G││    \u001b[1G\u001b[39m\u001b[90m  \u001b[39m└───       goto #3 if not %4\n",
      "\u001b[90m\u001b[55G││    \u001b[1G\u001b[39m\u001b[90m  \u001b[39m2 ──       goto #4\n",
      "\u001b[90m\u001b[55G││    \u001b[1G\u001b[39m\u001b[90m  \u001b[39m3 ──       goto #4\n",
      "\u001b[90m\u001b[55G│     \u001b[1G\u001b[39m\u001b[90m  \u001b[39m4 ┄─ %8  = φ (#2 => true, #3 => false)\u001b[36m::Bool\u001b[39m\n",
      "\u001b[90m\u001b[55G│     \u001b[1G\u001b[39m\u001b[90m  \u001b[39m│    %9  = φ (#3 => 1)\u001b[36m::Int64\u001b[39m\n",
      "\u001b[90m\u001b[55G│     \u001b[1G\u001b[39m\u001b[90m  \u001b[39m│    %10 = (Base.not_int)(%8)\u001b[36m::Bool\u001b[39m\n",
      "\u001b[90m\u001b[55G│     \u001b[1G\u001b[39m\u001b[90m  \u001b[39m└───       goto #15 if not %10\n",
      "\u001b[90m\u001b[55G│     \u001b[1G\u001b[39m\u001b[90m  \u001b[39m5 ┄─ %12 = φ (#4 => 0, #14 => %27)\u001b[91m\u001b[1m::Union{Float64, Int64}\u001b[22m\u001b[39m\n",
      "\u001b[90m\u001b[55G│     \u001b[1G\u001b[39m\u001b[90m  \u001b[39m│    %13 = φ (#4 => %9, #14 => %33)\u001b[36m::Int64\u001b[39m\n",
      "\u001b[90m\u001b[55G│     \u001b[1G\u001b[39m\u001b[90m4 \u001b[39m│    %14 = (isa)(%12, Float64)\u001b[36m::Bool\u001b[39m\n",
      "\u001b[90m\u001b[55G│     \u001b[1G\u001b[39m\u001b[90m  \u001b[39m└───       goto #7 if not %14\n",
      "\u001b[90m\u001b[55G│     \u001b[1G\u001b[39m\u001b[90m  \u001b[39m6 ── %16 = π (%12, \u001b[36mFloat64\u001b[39m)\n",
      "\u001b[90m\u001b[55G│╻     +\u001b[1G\u001b[39m\u001b[90m  \u001b[39m│    %17 = (Base.add_float)(%16, 1.0)\u001b[36m::Float64\u001b[39m\n",
      "\u001b[90m\u001b[55G│     \u001b[1G\u001b[39m\u001b[90m  \u001b[39m└───       goto #10\n",
      "\u001b[90m\u001b[55G│     \u001b[1G\u001b[39m\u001b[90m  \u001b[39m7 ── %19 = (isa)(%12, Int64)\u001b[36m::Bool\u001b[39m\n",
      "\u001b[90m\u001b[55G│     \u001b[1G\u001b[39m\u001b[90m  \u001b[39m└───       goto #9 if not %19\n",
      "\u001b[90m\u001b[55G│     \u001b[1G\u001b[39m\u001b[90m  \u001b[39m8 ── %21 = π (%12, \u001b[36mInt64\u001b[39m)\n",
      "\u001b[90m\u001b[55G││╻╷╷╷  promote\u001b[1G\u001b[39m\u001b[90m  \u001b[39m│    %22 = (Base.sitofp)(Float64, %21)\u001b[36m::Float64\u001b[39m\n",
      "\u001b[90m\u001b[55G││╻     +\u001b[1G\u001b[39m\u001b[90m  \u001b[39m│    %23 = (Base.add_float)(%22, 1.0)\u001b[36m::Float64\u001b[39m\n",
      "\u001b[90m\u001b[55G│     \u001b[1G\u001b[39m\u001b[90m  \u001b[39m└───       goto #10\n",
      "\u001b[90m\u001b[55G│     \u001b[1G\u001b[39m\u001b[90m  \u001b[39m9 ──       (Core.throw)(ErrorException(\"fatal error in type inference (type bound)\"))\n",
      "\u001b[90m\u001b[55G│     \u001b[1G\u001b[39m\u001b[90m  \u001b[39m└───       $(Expr(:unreachable))\n",
      "\u001b[90m\u001b[55G│     \u001b[1G\u001b[39m\u001b[90m  \u001b[39m10 ┄ %27 = φ (#6 => %17, #8 => %23)\u001b[36m::Float64\u001b[39m\n",
      "\u001b[90m\u001b[55G││╻     ==\u001b[1G\u001b[39m\u001b[90m  \u001b[39m│    %28 = (%13 === %3)\u001b[36m::Bool\u001b[39m\n",
      "\u001b[90m\u001b[55G││    \u001b[1G\u001b[39m\u001b[90m  \u001b[39m└───       goto #12 if not %28\n",
      "\u001b[90m\u001b[55G││    \u001b[1G\u001b[39m\u001b[90m  \u001b[39m11 ─       goto #13\n",
      "\u001b[90m\u001b[55G││╻     +\u001b[1G\u001b[39m\u001b[90m  \u001b[39m12 ─ %31 = (Base.add_int)(%13, 1)\u001b[36m::Int64\u001b[39m\n",
      "\u001b[90m\u001b[55G│╻     iterate\u001b[1G\u001b[39m\u001b[90m  \u001b[39m└───       goto #13\n",
      "\u001b[90m\u001b[55G│     \u001b[1G\u001b[39m\u001b[90m  \u001b[39m13 ┄ %33 = φ (#12 => %31)\u001b[36m::Int64\u001b[39m\n",
      "\u001b[90m\u001b[55G│     \u001b[1G\u001b[39m\u001b[90m  \u001b[39m│    %34 = φ (#11 => true, #12 => false)\u001b[36m::Bool\u001b[39m\n",
      "\u001b[90m\u001b[55G│     \u001b[1G\u001b[39m\u001b[90m  \u001b[39m│    %35 = (Base.not_int)(%34)\u001b[36m::Bool\u001b[39m\n",
      "\u001b[90m\u001b[55G│     \u001b[1G\u001b[39m\u001b[90m  \u001b[39m└───       goto #15 if not %35\n",
      "\u001b[90m\u001b[55G│     \u001b[1G\u001b[39m\u001b[90m  \u001b[39m14 ─       goto #5\n",
      "\u001b[90m\u001b[55G│     \u001b[1G\u001b[39m\u001b[90m6 \u001b[39m15 ─ %38 = φ (#13 => %27, #4 => 0)\u001b[91m\u001b[1m::Union{Float64, Int64}\u001b[22m\u001b[39m\n",
      "\u001b[90m\u001b[55G│     \u001b[1G\u001b[39m\u001b[90m  \u001b[39m└───       return %38\n"
     ]
    }
   ],
   "source": [
    "@code_warntype g(10)"
   ]
  },
  {
   "cell_type": "code",
   "execution_count": 46,
   "metadata": {
    "slideshow": {
     "slide_type": "subslide"
    }
   },
   "outputs": [
    {
     "data": {
      "text/plain": [
       "k (generic function with 1 method)"
      ]
     },
     "execution_count": 46,
     "metadata": {},
     "output_type": "execute_result"
    }
   ],
   "source": [
    "function k(::Type{T}, N) where T\n",
    "    acc = zero(T)\n",
    "    for i in 1:N\n",
    "        acc += one(T)\n",
    "        clobber()\n",
    "    end\n",
    "    return acc\n",
    "end"
   ]
  },
  {
   "cell_type": "code",
   "execution_count": 49,
   "metadata": {
    "slideshow": {
     "slide_type": "subslide"
    }
   },
   "outputs": [
    {
     "name": "stdout",
     "output_type": "stream",
     "text": [
      "\t.text\n",
      "; Function k {\n",
      "; Location: In[46]:2\n",
      "\tvxorpd\t%xmm0, %xmm0, %xmm0\n",
      "; Location: In[46]:3\n",
      "; Function Colon; {\n",
      "; Location: range.jl:5\n",
      "; Function Type; {\n",
      "; Location: range.jl:255\n",
      "; Function unitrange_last; {\n",
      "; Location: range.jl:260\n",
      "; Function >=; {\n",
      "; Location: operators.jl:333\n",
      "; Function <=; {\n",
      "; Location: int.jl:428\n",
      "\ttestq\t%rsi, %rsi\n",
      ";}}}}}\n",
      "\tjle\tL42\n",
      "\tmovabsq\t$139722268545512, %rax  # imm = 0x7F13A02F11E8\n",
      "\tvmovsd\t(%rax), %xmm1           # xmm1 = mem[0],zero\n",
      "\tnopw\t(%rax,%rax)\n",
      "; Location: In[46]:4\n",
      "; Function +; {\n",
      "; Location: float.jl:395\n",
      "L32:\n",
      "\tvaddsd\t%xmm1, %xmm0, %xmm0\n",
      ";}\n",
      "; Location: In[46]:5\n",
      "; Function iterate; {\n",
      "; Location: range.jl:575\n",
      "; Function ==; {\n",
      "; Location: base.jl:42\n",
      "\taddq\t$-1, %rsi\n",
      ";}}\n",
      "\tjne\tL32\n",
      "; Location: In[46]:7\n",
      "L42:\n",
      "\tretq\n",
      "\tnopl\t(%rax,%rax)\n",
      ";}\n"
     ]
    }
   ],
   "source": [
    "@code_native k(Float64, 10)"
   ]
  },
  {
   "cell_type": "code",
   "execution_count": 52,
   "metadata": {
    "slideshow": {
     "slide_type": "subslide"
    }
   },
   "outputs": [
    {
     "name": "stdout",
     "output_type": "stream",
     "text": [
      "\t.text\n",
      "; Function k {\n",
      "; Location: In[46]:3\n",
      "; Function Colon; {\n",
      "; Location: range.jl:5\n",
      "; Function Type; {\n",
      "; Location: range.jl:255\n",
      "; Function unitrange_last; {\n",
      "; Location: range.jl:260\n",
      "; Function >=; {\n",
      "; Location: operators.jl:333\n",
      "; Function <=; {\n",
      "; Location: In[46]:2\n",
      "\ttestq\t%rsi, %rsi\n",
      ";}}}}}\n",
      "\tjle\tL26\n",
      "\tmovq\t%rsi, %rax\n",
      "\tnopl\t(%rax,%rax)\n",
      "; Location: In[46]:5\n",
      "; Function iterate; {\n",
      "; Location: range.jl:575\n",
      "; Function ==; {\n",
      "; Location: base.jl:42\n",
      "L16:\n",
      "\taddq\t$-1, %rax\n",
      ";}}\n",
      "\tjne\tL16\n",
      "; Location: In[46]:7\n",
      "\tmovq\t%rsi, %rax\n",
      "\tretq\n",
      "L26:\n",
      "\txorl\t%esi, %esi\n",
      "; Location: In[46]:7\n",
      "\tmovq\t%rsi, %rax\n",
      "\tretq\n",
      ";}\n"
     ]
    }
   ],
   "source": [
    "@code_native k(Int64, 10)"
   ]
  },
  {
   "cell_type": "code",
   "execution_count": 58,
   "metadata": {
    "slideshow": {
     "slide_type": "subslide"
    }
   },
   "outputs": [
    {
     "data": {
      "text/plain": [
       "m (generic function with 1 method)"
      ]
     },
     "execution_count": 58,
     "metadata": {},
     "output_type": "execute_result"
    }
   ],
   "source": [
    "function m(::Type{T}, N) where T\n",
    "    acc = zero(T)\n",
    "    for i in 1:N\n",
    "        acc += one(T)\n",
    "        escape(acc)\n",
    "    end\n",
    "    return acc\n",
    "end"
   ]
  },
  {
   "cell_type": "code",
   "execution_count": 61,
   "metadata": {
    "slideshow": {
     "slide_type": "subslide"
    }
   },
   "outputs": [
    {
     "name": "stdout",
     "output_type": "stream",
     "text": [
      "\t.text\n",
      "; Function m {\n",
      "; Location: In[58]:3\n",
      "; Function Colon; {\n",
      "; Location: range.jl:5\n",
      "; Function Type; {\n",
      "; Location: range.jl:255\n",
      "; Function unitrange_last; {\n",
      "; Location: range.jl:260\n",
      "; Function >=; {\n",
      "; Location: operators.jl:333\n",
      "; Function <=; {\n",
      "; Location: In[58]:2\n",
      "\ttestq\t%rsi, %rsi\n",
      ";}}}}}\n",
      "\tjle\tL38\n",
      "\tmovq\t%rsi, %rax\n",
      "\tnegq\t%rax\n",
      "\tmovl\t$1, %ecx\n",
      "; Location: In[58]:5\n",
      "; Function iterate; {\n",
      "; Location: range.jl:575\n",
      "; Function ==; {\n",
      "; Location: base.jl:42\n",
      "L16:\n",
      "\tleaq\t(%rax,%rcx), %rdx\n",
      "\taddq\t$1, %rdx\n",
      ";}\n",
      "; Location: range.jl:576\n",
      "; Function +; {\n",
      "; Location: int.jl:53\n",
      "\taddq\t$1, %rcx\n",
      ";}\n",
      "; Location: range.jl:575\n",
      "; Function ==; {\n",
      "; Location: promotion.jl:425\n",
      "\tcmpq\t$1, %rdx\n",
      ";}}\n",
      "\tjne\tL16\n",
      "; Location: In[58]:7\n",
      "\tmovq\t%rsi, %rax\n",
      "\tretq\n",
      "L38:\n",
      "\txorl\t%esi, %esi\n",
      "; Location: In[58]:7\n",
      "\tmovq\t%rsi, %rax\n",
      "\tretq\n",
      "\tnopl\t(%rax)\n",
      ";}\n"
     ]
    }
   ],
   "source": [
    "@code_native m(Int64, 30)"
   ]
  },
  {
   "cell_type": "code",
   "execution_count": 72,
   "metadata": {
    "slideshow": {
     "slide_type": "subslide"
    }
   },
   "outputs": [
    {
     "data": {
      "text/plain": [
       "BenchmarkTools.Trial: \n",
       "  memory estimate:  32 bytes\n",
       "  allocs estimate:  2\n",
       "  --------------\n",
       "  minimum time:     26.050 ms (0.00% GC)\n",
       "  median time:      29.182 ms (0.00% GC)\n",
       "  mean time:        37.582 ms (0.00% GC)\n",
       "  maximum time:     86.320 ms (0.00% GC)\n",
       "  --------------\n",
       "  samples:          133\n",
       "  evals/sample:     1"
      ]
     },
     "execution_count": 72,
     "metadata": {},
     "output_type": "execute_result"
    }
   ],
   "source": [
    "result2 = @benchmark m($Int64, $N)"
   ]
  },
  {
   "cell_type": "code",
   "execution_count": 73,
   "metadata": {
    "slideshow": {
     "slide_type": "subslide"
    }
   },
   "outputs": [
    {
     "data": {
      "text/plain": [
       "BenchmarkTools.Trial: \n",
       "  memory estimate:  32 bytes\n",
       "  allocs estimate:  2\n",
       "  --------------\n",
       "  minimum time:     251.978 ms (0.00% GC)\n",
       "  median time:      267.794 ms (0.00% GC)\n",
       "  mean time:        277.873 ms (0.00% GC)\n",
       "  maximum time:     368.741 ms (0.00% GC)\n",
       "  --------------\n",
       "  samples:          18\n",
       "  evals/sample:     1"
      ]
     },
     "execution_count": 73,
     "metadata": {},
     "output_type": "execute_result"
    }
   ],
   "source": [
    "@benchmark m($Int64, $(N*10))"
   ]
  },
  {
   "cell_type": "code",
   "execution_count": 75,
   "metadata": {
    "slideshow": {
     "slide_type": "subslide"
    }
   },
   "outputs": [
    {
     "data": {
      "text/plain": [
       "3.838813444261734e9"
      ]
     },
     "execution_count": 75,
     "metadata": {},
     "output_type": "execute_result"
    }
   ],
   "source": [
    "t = time(minimum(result2)) # in ns\n",
    "N / (t * 1e-9) # in Hz"
   ]
  },
  {
   "cell_type": "markdown",
   "metadata": {
    "slideshow": {
     "slide_type": "fragment"
    }
   },
   "source": [
    "Sanity restored: 3.8 GHz is much closer to the frequency of my actual processor \n",
    "\n",
    "Note: Benchmarking is hard, careful evalutaion of *what* you are trying to benchmark.\n",
    "\n",
    "- If we were just interesting in how fast `f(N)` was we would have been fine with our first measurement\n",
    "- But we were interested in the speed of addition as a proxy of perfromance\n",
    "- Integer math on a computer is associative, Floating-Point math is not."
   ]
  },
  {
   "cell_type": "code",
   "execution_count": 79,
   "metadata": {
    "slideshow": {
     "slide_type": "subslide"
    }
   },
   "outputs": [
    {
     "data": {
      "text/plain": [
       "BenchmarkTools.Trial: \n",
       "  memory estimate:  0 bytes\n",
       "  allocs estimate:  0\n",
       "  --------------\n",
       "  minimum time:     100.564 ms (0.00% GC)\n",
       "  median time:      104.880 ms (0.00% GC)\n",
       "  mean time:        107.600 ms (0.00% GC)\n",
       "  maximum time:     153.669 ms (0.00% GC)\n",
       "  --------------\n",
       "  samples:          47\n",
       "  evals/sample:     1"
      ]
     },
     "execution_count": 79,
     "metadata": {},
     "output_type": "execute_result"
    }
   ],
   "source": [
    "@benchmark h($N)"
   ]
  },
  {
   "cell_type": "code",
   "execution_count": 6,
   "metadata": {
    "slideshow": {
     "slide_type": "subslide"
    }
   },
   "outputs": [
    {
     "data": {
      "text/plain": [
       "l (generic function with 1 method)"
      ]
     },
     "execution_count": 6,
     "metadata": {},
     "output_type": "execute_result"
    }
   ],
   "source": [
    "function l(N)\n",
    "    acc = 0.0\n",
    "    @simd for i in 1:N\n",
    "        acc += 1.0\n",
    "    end\n",
    "    acc\n",
    "end"
   ]
  },
  {
   "cell_type": "code",
   "execution_count": 85,
   "metadata": {
    "scrolled": true,
    "slideshow": {
     "slide_type": "subslide"
    }
   },
   "outputs": [
    {
     "data": {
      "text/plain": [
       "BenchmarkTools.Trial: \n",
       "  memory estimate:  0 bytes\n",
       "  allocs estimate:  0\n",
       "  --------------\n",
       "  minimum time:     6.266 ms (0.00% GC)\n",
       "  median time:      6.351 ms (0.00% GC)\n",
       "  mean time:        6.416 ms (0.00% GC)\n",
       "  maximum time:     13.143 ms (0.00% GC)\n",
       "  --------------\n",
       "  samples:          779\n",
       "  evals/sample:     1"
      ]
     },
     "execution_count": 85,
     "metadata": {},
     "output_type": "execute_result"
    }
   ],
   "source": [
    "@benchmark l($N)"
   ]
  },
  {
   "cell_type": "markdown",
   "metadata": {
    "slideshow": {
     "slide_type": "subslide"
    }
   },
   "source": [
    "# Performance annotiations in Julia\n",
    "\n",
    "- https://docs.julialang.org/en/v1/manual/performance-tips/\n",
    "- Julia does bounds checking by default `ones(10)[11]` is an error\n",
    "- `@inbounds` Turns of bounds-checking locally\n",
    "- `@fastmath` Turns of strict IEE749 locally -- be very careful this might not to what you want\n",
    "- `@simd` and `@simd ivdep` stronger gurantuees to encourage LLVM to use SIMD operations"
   ]
  },
  {
   "cell_type": "code",
   "execution_count": 86,
   "metadata": {
    "slideshow": {
     "slide_type": "subslide"
    }
   },
   "outputs": [
    {
     "data": {
      "text/markdown": [
       "```\n",
       "@simd\n",
       "```\n",
       "\n",
       "Annotate a `for` loop to allow the compiler to take extra liberties to allow loop re-ordering\n",
       "\n",
       "!!! warning\n",
       "    This feature is experimental and could change or disappear in future versions of Julia. Incorrect use of the `@simd` macro may cause unexpected results.\n",
       "\n",
       "\n",
       "The object iterated over in a `@simd for` loop should be a one-dimensional range. By using `@simd`, you are asserting several properties of the loop:\n",
       "\n",
       "```\n",
       "* It is safe to execute iterations in arbitrary or overlapping order, with special consideration for reduction variables.\n",
       "* Floating-point operations on reduction variables can be reordered, possibly causing different results than without `@simd`.\n",
       "```\n",
       "\n",
       "In many cases, Julia is able to automatically vectorize inner for loops without the use of `@simd`. Using `@simd` gives the compiler a little extra leeway to make it possible in more situations. In either case, your inner loop should have the following properties to allow vectorization:\n",
       "\n",
       "```\n",
       "* The loop must be an innermost loop\n",
       "* The loop body must be straight-line code. Therefore, [`@inbounds`](@ref) is\n",
       "  currently needed for all array accesses. The compiler can sometimes turn\n",
       "  short `&&`, `||`, and `?:` expressions into straight-line code if it is safe\n",
       "  to evaluate all operands unconditionally. Consider using the [`ifelse`](@ref)\n",
       "  function instead of `?:` in the loop if it is safe to do so.\n",
       "* Accesses must have a stride pattern and cannot be \"gathers\" (random-index\n",
       "  reads) or \"scatters\" (random-index writes).\n",
       "* The stride should be unit stride.\n",
       "```\n",
       "\n",
       "!!! note\n",
       "    The `@simd` does not assert by default that the loop is completely free of loop-carried memory dependencies, which is an assumption that can easily be violated in generic code. If you are writing non-generic code, you can use `@simd ivdep for ... end` to also assert that:\n",
       "\n",
       "    ```\n",
       "    * There exists no loop-carried memory dependencies\n",
       "    * No iteration ever waits on a previous iteration to make forward progress.\n",
       "    ```\n",
       "\n"
      ],
      "text/plain": [
       "\u001b[36m  @simd\u001b[39m\n",
       "\n",
       "  Annotate a \u001b[36mfor\u001b[39m loop to allow the compiler to take extra liberties to allow\n",
       "  loop re-ordering\n",
       "\n",
       "\u001b[33m\u001b[1m  │ \u001b[22m\u001b[39m\u001b[33m\u001b[1mWarning\u001b[22m\u001b[39m\n",
       "\u001b[33m\u001b[1m  │\u001b[22m\u001b[39m\n",
       "\u001b[33m\u001b[1m  │\u001b[22m\u001b[39m  This feature is experimental and could change or disappear in\n",
       "\u001b[33m\u001b[1m  │\u001b[22m\u001b[39m  future versions of Julia. Incorrect use of the \u001b[36m@simd\u001b[39m macro may\n",
       "\u001b[33m\u001b[1m  │\u001b[22m\u001b[39m  cause unexpected results.\n",
       "\n",
       "  The object iterated over in a \u001b[36m@simd for\u001b[39m loop should be a one-dimensional\n",
       "  range. By using \u001b[36m@simd\u001b[39m, you are asserting several properties of the loop:\n",
       "\n",
       "\u001b[36m  * It is safe to execute iterations in arbitrary or overlapping order, with special consideration for reduction variables.\u001b[39m\n",
       "\u001b[36m  * Floating-point operations on reduction variables can be reordered, possibly causing different results than without `@simd`.\u001b[39m\n",
       "\n",
       "  In many cases, Julia is able to automatically vectorize inner for loops\n",
       "  without the use of \u001b[36m@simd\u001b[39m. Using \u001b[36m@simd\u001b[39m gives the compiler a little extra\n",
       "  leeway to make it possible in more situations. In either case, your inner\n",
       "  loop should have the following properties to allow vectorization:\n",
       "\n",
       "\u001b[36m  * The loop must be an innermost loop\u001b[39m\n",
       "\u001b[36m  * The loop body must be straight-line code. Therefore, [`@inbounds`](@ref) is\u001b[39m\n",
       "\u001b[36m    currently needed for all array accesses. The compiler can sometimes turn\u001b[39m\n",
       "\u001b[36m    short `&&`, `||`, and `?:` expressions into straight-line code if it is safe\u001b[39m\n",
       "\u001b[36m    to evaluate all operands unconditionally. Consider using the [`ifelse`](@ref)\u001b[39m\n",
       "\u001b[36m    function instead of `?:` in the loop if it is safe to do so.\u001b[39m\n",
       "\u001b[36m  * Accesses must have a stride pattern and cannot be \"gathers\" (random-index\u001b[39m\n",
       "\u001b[36m    reads) or \"scatters\" (random-index writes).\u001b[39m\n",
       "\u001b[36m  * The stride should be unit stride.\u001b[39m\n",
       "\n",
       "\u001b[36m\u001b[1m  │ \u001b[22m\u001b[39m\u001b[36m\u001b[1mNote\u001b[22m\u001b[39m\n",
       "\u001b[36m\u001b[1m  │\u001b[22m\u001b[39m\n",
       "\u001b[36m\u001b[1m  │\u001b[22m\u001b[39m  The \u001b[36m@simd\u001b[39m does not assert by default that the loop is completely\n",
       "\u001b[36m\u001b[1m  │\u001b[22m\u001b[39m  free of loop-carried memory dependencies, which is an assumption\n",
       "\u001b[36m\u001b[1m  │\u001b[22m\u001b[39m  that can easily be violated in generic code. If you are writing\n",
       "\u001b[36m\u001b[1m  │\u001b[22m\u001b[39m  non-generic code, you can use \u001b[36m@simd ivdep for ... end\u001b[39m to also\n",
       "\u001b[36m\u001b[1m  │\u001b[22m\u001b[39m  assert that:\n",
       "\u001b[36m\u001b[1m  │\u001b[22m\u001b[39m\n",
       "\u001b[36m\u001b[1m  │\u001b[22m\u001b[39m\u001b[36m  * There exists no loop-carried memory dependencies\u001b[39m\n",
       "\u001b[36m\u001b[1m  │\u001b[22m\u001b[39m\u001b[36m  * No iteration ever waits on a previous iteration to make forward progress.\u001b[39m"
      ]
     },
     "execution_count": 86,
     "metadata": {},
     "output_type": "execute_result"
    }
   ],
   "source": [
    "?@simd"
   ]
  },
  {
   "cell_type": "code",
   "execution_count": 82,
   "metadata": {},
   "outputs": [
    {
     "name": "stdout",
     "output_type": "stream",
     "text": [
      "\n",
      "; Function l\n",
      "; Location: In[78]:2\n",
      "define double @julia_l_38030(i64) {\n",
      "top:\n",
      "; Location: In[78]:3\n",
      "; Function macro expansion; {\n",
      "; Location: simdloop.jl:65\n",
      "; Function Colon; {\n",
      "; Location: range.jl:5\n",
      "; Function Type; {\n",
      "; Location: range.jl:255\n",
      "; Function unitrange_last; {\n",
      "; Location: range.jl:260\n",
      "; Function >=; {\n",
      "; Location: operators.jl:333\n",
      "; Function <=; {\n",
      "; Location: int.jl:428\n",
      "  %1 = icmp sgt i64 %0, 0\n",
      ";}}\n",
      "  %2 = select i1 %1, i64 %0, i64 0\n",
      ";}}}\n",
      "; Location: simdloop.jl:67\n",
      "; Function simd_inner_length; {\n",
      "; Location: simdloop.jl:47\n",
      "; Function length; {\n",
      "; Location: range.jl:521\n",
      "; Function checked_sub; {\n",
      "; Location: checked.jl:226\n",
      "; Function sub_with_overflow; {\n",
      "; Location: checked.jl:198\n",
      "  %3 = add nsw i64 %2, -1\n",
      ";}}\n",
      "; Function checked_add; {\n",
      "; Location: checked.jl:169\n",
      "; Function add_with_overflow; {\n",
      "; Location: checked.jl:136\n",
      "  %4 = call { i64, i1 } @llvm.sadd.with.overflow.i64(i64 %3, i64 1)\n",
      "  %5 = extractvalue { i64, i1 } %4, 1\n",
      ";}\n",
      "; Location: checked.jl:170\n",
      "  br i1 %5, label %L27, label %L32.lr.ph\n",
      "\n",
      "L32.lr.ph:                                        ; preds = %top\n",
      "; Location: checked.jl:169\n",
      "; Function add_with_overflow; {\n",
      "; Location: checked.jl:136\n",
      "  %6 = extractvalue { i64, i1 } %4, 0\n",
      "  %7 = icmp slt i64 %6, 1\n",
      ";}\n",
      "; Location: checked.jl:170\n",
      "  br i1 %7, label %L74, label %L39.lr.ph.us30\n",
      "\n",
      "L39.lr.ph.us30:                                   ; preds = %L32.lr.ph\n",
      ";}}}\n",
      "; Location: simdloop.jl:71\n",
      "  %min.iters.check = icmp ult i64 %2, 16\n",
      "  br i1 %min.iters.check, label %scalar.ph, label %vector.ph\n",
      "\n",
      "vector.ph:                                        ; preds = %L39.lr.ph.us30\n",
      "  %n.vec = and i64 %2, 9223372036854775792\n",
      "  br label %vector.body\n",
      "\n",
      "vector.body:                                      ; preds = %vector.body, %vector.ph\n",
      "; Location: simdloop.jl:73\n",
      "; Function macro expansion; {\n",
      "; Location: In[78]:4\n",
      "; Function +; {\n",
      "; Location: int.jl:53\n",
      "  %index = phi i64 [ 0, %vector.ph ], [ %index.next, %vector.body ]\n",
      "  %vec.phi = phi <4 x double> [ zeroinitializer, %vector.ph ], [ %8, %vector.body ]\n",
      "  %vec.phi47 = phi <4 x double> [ zeroinitializer, %vector.ph ], [ %9, %vector.body ]\n",
      "  %vec.phi48 = phi <4 x double> [ zeroinitializer, %vector.ph ], [ %10, %vector.body ]\n",
      "  %vec.phi49 = phi <4 x double> [ zeroinitializer, %vector.ph ], [ %11, %vector.body ]\n",
      ";}\n",
      "; Function +; {\n",
      "; Location: float.jl:395\n",
      "  %8 = fadd fast <4 x double> %vec.phi, <double 1.000000e+00, double 1.000000e+00, double 1.000000e+00, double 1.000000e+00>\n",
      "  %9 = fadd fast <4 x double> %vec.phi47, <double 1.000000e+00, double 1.000000e+00, double 1.000000e+00, double 1.000000e+00>\n",
      "  %10 = fadd fast <4 x double> %vec.phi48, <double 1.000000e+00, double 1.000000e+00, double 1.000000e+00, double 1.000000e+00>\n",
      "  %11 = fadd fast <4 x double> %vec.phi49, <double 1.000000e+00, double 1.000000e+00, double 1.000000e+00, double 1.000000e+00>\n",
      ";}\n",
      "; Function +; {\n",
      "; Location: int.jl:53\n",
      "  %index.next = add i64 %index, 16\n",
      "  %12 = icmp eq i64 %index.next, %n.vec\n",
      "  br i1 %12, label %middle.block, label %vector.body\n",
      "\n",
      "middle.block:                                     ; preds = %vector.body\n",
      ";}\n",
      "; Function +; {\n",
      "; Location: float.jl:395\n",
      "  %bin.rdx = fadd fast <4 x double> %9, %8\n",
      "  %bin.rdx50 = fadd fast <4 x double> %10, %bin.rdx\n",
      "  %bin.rdx51 = fadd fast <4 x double> %11, %bin.rdx50\n",
      "  %rdx.shuf = shufflevector <4 x double> %bin.rdx51, <4 x double> undef, <4 x i32> <i32 2, i32 3, i32 undef, i32 undef>\n",
      "  %bin.rdx52 = fadd fast <4 x double> %bin.rdx51, %rdx.shuf\n",
      "  %rdx.shuf53 = shufflevector <4 x double> %bin.rdx52, <4 x double> undef, <4 x i32> <i32 1, i32 undef, i32 undef, i32 undef>\n",
      "  %bin.rdx54 = fadd fast <4 x double> %bin.rdx52, %rdx.shuf53\n",
      "  %13 = extractelement <4 x double> %bin.rdx54, i32 0\n",
      "  %cmp.n = icmp eq i64 %2, %n.vec\n",
      ";}}\n",
      "; Location: simdloop.jl:71\n",
      "  br i1 %cmp.n, label %L74, label %scalar.ph\n",
      "\n",
      "scalar.ph:                                        ; preds = %middle.block, %L39.lr.ph.us30\n",
      "  %bc.resume.val = phi i64 [ %n.vec, %middle.block ], [ 0, %L39.lr.ph.us30 ]\n",
      "  %bc.merge.rdx = phi double [ %13, %middle.block ], [ 0.000000e+00, %L39.lr.ph.us30 ]\n",
      "  br label %L39.us31\n",
      "\n",
      "L39.us31:                                         ; preds = %L39.us31, %scalar.ph\n",
      "  %value_phi622.us32 = phi i64 [ %bc.resume.val, %scalar.ph ], [ %15, %L39.us31 ]\n",
      "  %value_phi521.us33 = phi double [ %bc.merge.rdx, %scalar.ph ], [ %14, %L39.us31 ]\n",
      "; Location: simdloop.jl:73\n",
      "; Function macro expansion; {\n",
      "; Location: In[78]:4\n",
      "; Function +; {\n",
      "; Location: float.jl:395\n",
      "  %14 = fadd fast double %value_phi521.us33, 1.000000e+00\n",
      ";}\n",
      "; Function +; {\n",
      "; Location: int.jl:53\n",
      "  %15 = add nuw nsw i64 %value_phi622.us32, 1\n",
      ";}}\n",
      "; Location: simdloop.jl:71\n",
      "; Function <; {\n",
      "; Location: int.jl:49\n",
      "  %16 = icmp ult i64 %15, %6\n",
      ";}\n",
      "  br i1 %16, label %L39.us31, label %L74\n",
      "\n",
      "L27:                                              ; preds = %top\n",
      "; Location: simdloop.jl:67\n",
      "; Function simd_inner_length; {\n",
      "; Location: simdloop.jl:47\n",
      "; Function length; {\n",
      "; Location: range.jl:521\n",
      "; Function checked_add; {\n",
      "; Location: checked.jl:170\n",
      "  call void @julia_throw_overflowerr_binaryop_24250(%jl_value_t addrspace(10)* addrspacecast (%jl_value_t* inttoptr (i64 139722407334552 to %jl_value_t*) to %jl_value_t addrspace(10)*), i64 %3, i64 1)\n",
      "  call void @llvm.trap()\n",
      "  unreachable\n",
      "\n",
      "L74:                                              ; preds = %L39.us31, %middle.block, %L32.lr.ph\n",
      "  %value_phi9.lcssa = phi double [ 0.000000e+00, %L32.lr.ph ], [ %14, %L39.us31 ], [ %13, %middle.block ]\n",
      ";}}}\n",
      "; Location: simdloop.jl:65\n",
      "  ret double %value_phi9.lcssa\n",
      ";}\n",
      "}\n"
     ]
    }
   ],
   "source": [
    "@code_llvm l(10)"
   ]
  },
  {
   "cell_type": "markdown",
   "metadata": {
    "slideshow": {
     "slide_type": "slide"
    }
   },
   "source": [
    "# Let's revisit our example from earlier!\n",
    "\n",
    "Slightly more complicated function!\n",
    "\n",
    "- What is wrong with `mysum3(ones(10_000))`"
   ]
  },
  {
   "cell_type": "code",
   "execution_count": 10,
   "metadata": {
    "slideshow": {
     "slide_type": "fragment"
    }
   },
   "outputs": [
    {
     "data": {
      "text/plain": [
       "mysum3 (generic function with 1 method)"
      ]
     },
     "execution_count": 10,
     "metadata": {},
     "output_type": "execute_result"
    }
   ],
   "source": [
    "function mysum3(data::Vector{T}) where T<:Number\n",
    "  acc = zero(T)\n",
    "  for x in data\n",
    "      acc += x\n",
    "  end\n",
    "  return acc\n",
    "end"
   ]
  },
  {
   "cell_type": "code",
   "execution_count": 9,
   "metadata": {
    "slideshow": {
     "slide_type": "subslide"
    }
   },
   "outputs": [
    {
     "name": "stdout",
     "output_type": "stream",
     "text": [
      "Body\u001b[91m\u001b[1m::Union{Float64, Int64}\u001b[22m\u001b[39m\n",
      "\u001b[90m\u001b[57G│╻╷╷   iterate\u001b[1G\u001b[39m\u001b[90m3 \u001b[39m1 ── %1  = (Base.arraylen)(data)\u001b[36m::Int64\u001b[39m\n",
      "\u001b[90m\u001b[57G││╻╷    iterate\u001b[1G\u001b[39m\u001b[90m  \u001b[39m│    %2  = (Base.sle_int)(0, %1)\u001b[36m::Bool\u001b[39m\n",
      "\u001b[90m\u001b[57G│││╻     <\u001b[1G\u001b[39m\u001b[90m  \u001b[39m│    %3  = (Base.bitcast)(UInt64, %1)\u001b[36m::UInt64\u001b[39m\n",
      "\u001b[90m\u001b[57G││││╻     <\u001b[1G\u001b[39m\u001b[90m  \u001b[39m│    %4  = (Base.ult_int)(0x0000000000000000, %3)\u001b[36m::Bool\u001b[39m\n",
      "\u001b[90m\u001b[57G││││╻     &\u001b[1G\u001b[39m\u001b[90m  \u001b[39m│    %5  = (Base.and_int)(%2, %4)\u001b[36m::Bool\u001b[39m\n",
      "\u001b[90m\u001b[57G│││   \u001b[1G\u001b[39m\u001b[90m  \u001b[39m└───       goto #3 if not %5\n",
      "\u001b[90m\u001b[57G│││╻     getindex\u001b[1G\u001b[39m\u001b[90m  \u001b[39m2 ── %7  = (Base.arrayref)(false, data, 1)\u001b[36m::Float64\u001b[39m\n",
      "\u001b[90m\u001b[57G│││   \u001b[1G\u001b[39m\u001b[90m  \u001b[39m└───       goto #4\n",
      "\u001b[90m\u001b[57G│││   \u001b[1G\u001b[39m\u001b[90m  \u001b[39m3 ──       goto #4\n",
      "\u001b[90m\u001b[57G││    \u001b[1G\u001b[39m\u001b[90m  \u001b[39m4 ┄─ %10 = φ (#2 => false, #3 => true)\u001b[36m::Bool\u001b[39m\n",
      "\u001b[90m\u001b[57G││    \u001b[1G\u001b[39m\u001b[90m  \u001b[39m│    %11 = φ (#2 => %7)\u001b[36m::Float64\u001b[39m\n",
      "\u001b[90m\u001b[57G││    \u001b[1G\u001b[39m\u001b[90m  \u001b[39m│    %12 = φ (#2 => 2)\u001b[36m::Int64\u001b[39m\n",
      "\u001b[90m\u001b[57G││    \u001b[1G\u001b[39m\u001b[90m  \u001b[39m└───       goto #5\n",
      "\u001b[90m\u001b[57G│     \u001b[1G\u001b[39m\u001b[90m  \u001b[39m5 ── %14 = (Base.not_int)(%10)\u001b[36m::Bool\u001b[39m\n",
      "\u001b[90m\u001b[57G│     \u001b[1G\u001b[39m\u001b[90m  \u001b[39m└───       goto #16 if not %14\n",
      "\u001b[90m\u001b[57G│     \u001b[1G\u001b[39m\u001b[90m  \u001b[39m6 ┄─ %16 = φ (#5 => 0, #15 => %32)\u001b[91m\u001b[1m::Union{Float64, Int64}\u001b[22m\u001b[39m\n",
      "\u001b[90m\u001b[57G│     \u001b[1G\u001b[39m\u001b[90m  \u001b[39m│    %17 = φ (#5 => %11, #15 => %46)\u001b[36m::Float64\u001b[39m\n",
      "\u001b[90m\u001b[57G│     \u001b[1G\u001b[39m\u001b[90m  \u001b[39m│    %18 = φ (#5 => %12, #15 => %47)\u001b[36m::Int64\u001b[39m\n",
      "\u001b[90m\u001b[57G│     \u001b[1G\u001b[39m\u001b[90m4 \u001b[39m│    %19 = (isa)(%16, Float64)\u001b[36m::Bool\u001b[39m\n",
      "\u001b[90m\u001b[57G│     \u001b[1G\u001b[39m\u001b[90m  \u001b[39m└───       goto #8 if not %19\n",
      "\u001b[90m\u001b[57G│     \u001b[1G\u001b[39m\u001b[90m  \u001b[39m7 ── %21 = π (%16, \u001b[36mFloat64\u001b[39m)\n",
      "\u001b[90m\u001b[57G│╻     +\u001b[1G\u001b[39m\u001b[90m  \u001b[39m│    %22 = (Base.add_float)(%21, %17)\u001b[36m::Float64\u001b[39m\n",
      "\u001b[90m\u001b[57G│     \u001b[1G\u001b[39m\u001b[90m  \u001b[39m└───       goto #11\n",
      "\u001b[90m\u001b[57G│     \u001b[1G\u001b[39m\u001b[90m  \u001b[39m8 ── %24 = (isa)(%16, Int64)\u001b[36m::Bool\u001b[39m\n",
      "\u001b[90m\u001b[57G│     \u001b[1G\u001b[39m\u001b[90m  \u001b[39m└───       goto #10 if not %24\n",
      "\u001b[90m\u001b[57G│     \u001b[1G\u001b[39m\u001b[90m  \u001b[39m9 ── %26 = π (%16, \u001b[36mInt64\u001b[39m)\n",
      "\u001b[90m\u001b[57G││╻╷╷╷  promote\u001b[1G\u001b[39m\u001b[90m  \u001b[39m│    %27 = (Base.sitofp)(Float64, %26)\u001b[36m::Float64\u001b[39m\n",
      "\u001b[90m\u001b[57G││╻     +\u001b[1G\u001b[39m\u001b[90m  \u001b[39m│    %28 = (Base.add_float)(%27, %17)\u001b[36m::Float64\u001b[39m\n",
      "\u001b[90m\u001b[57G│     \u001b[1G\u001b[39m\u001b[90m  \u001b[39m└───       goto #11\n",
      "\u001b[90m\u001b[57G│     \u001b[1G\u001b[39m\u001b[90m  \u001b[39m10 ─       (Core.throw)(ErrorException(\"fatal error in type inference (type bound)\"))\n",
      "\u001b[90m\u001b[57G│     \u001b[1G\u001b[39m\u001b[90m  \u001b[39m└───       $(Expr(:unreachable))\n",
      "\u001b[90m\u001b[57G│     \u001b[1G\u001b[39m\u001b[90m  \u001b[39m11 ┄ %32 = φ (#7 => %22, #9 => %28)\u001b[36m::Float64\u001b[39m\n",
      "\u001b[90m\u001b[57G││╻     rem\u001b[1G\u001b[39m\u001b[90m  \u001b[39m│    %33 = (Base.bitcast)(UInt64, %18)\u001b[36m::UInt64\u001b[39m\n",
      "\u001b[90m\u001b[57G││╻     -\u001b[1G\u001b[39m\u001b[90m  \u001b[39m│    %34 = π (0x0000000000000001, \u001b[36mUInt64\u001b[39m)\n",
      "\u001b[90m\u001b[57G│││╻     -\u001b[1G\u001b[39m\u001b[90m  \u001b[39m│    %35 = (Base.sub_int)(%33, %34)\u001b[36m::UInt64\u001b[39m\n",
      "\u001b[90m\u001b[57G││╻     length\u001b[1G\u001b[39m\u001b[90m  \u001b[39m│    %36 = (Base.arraylen)(data)\u001b[36m::Int64\u001b[39m\n",
      "\u001b[90m\u001b[57G│││╻╷    >=\u001b[1G\u001b[39m\u001b[90m  \u001b[39m│    %37 = (Base.sle_int)(0, %36)\u001b[36m::Bool\u001b[39m\n",
      "\u001b[90m\u001b[57G││││╻     reinterpret\u001b[1G\u001b[39m\u001b[90m  \u001b[39m│    %38 = (Base.bitcast)(UInt64, %36)\u001b[36m::UInt64\u001b[39m\n",
      "\u001b[90m\u001b[57G│││╻     <\u001b[1G\u001b[39m\u001b[90m  \u001b[39m│    %39 = (Base.ult_int)(%35, %38)\u001b[36m::Bool\u001b[39m\n",
      "\u001b[90m\u001b[57G│││╻     &\u001b[1G\u001b[39m\u001b[90m  \u001b[39m│    %40 = (Base.and_int)(%37, %39)\u001b[36m::Bool\u001b[39m\n",
      "\u001b[90m\u001b[57G││    \u001b[1G\u001b[39m\u001b[90m  \u001b[39m└───       goto #13 if not %40\n",
      "\u001b[90m\u001b[57G││╻     getindex\u001b[1G\u001b[39m\u001b[90m  \u001b[39m12 ─ %42 = (Base.arrayref)(false, data, %18)\u001b[36m::Float64\u001b[39m\n",
      "\u001b[90m\u001b[57G││╻     +\u001b[1G\u001b[39m\u001b[90m  \u001b[39m│    %43 = (Base.add_int)(%18, 1)\u001b[36m::Int64\u001b[39m\n",
      "\u001b[90m\u001b[57G││    \u001b[1G\u001b[39m\u001b[90m  \u001b[39m└───       goto #14\n",
      "\u001b[90m\u001b[57G││    \u001b[1G\u001b[39m\u001b[90m  \u001b[39m13 ─       goto #14\n",
      "\u001b[90m\u001b[57G│     \u001b[1G\u001b[39m\u001b[90m  \u001b[39m14 ┄ %46 = φ (#12 => %42)\u001b[36m::Float64\u001b[39m\n",
      "\u001b[90m\u001b[57G│     \u001b[1G\u001b[39m\u001b[90m  \u001b[39m│    %47 = φ (#12 => %43)\u001b[36m::Int64\u001b[39m\n",
      "\u001b[90m\u001b[57G│     \u001b[1G\u001b[39m\u001b[90m  \u001b[39m│    %48 = φ (#12 => false, #13 => true)\u001b[36m::Bool\u001b[39m\n",
      "\u001b[90m\u001b[57G│     \u001b[1G\u001b[39m\u001b[90m  \u001b[39m│    %49 = (Base.not_int)(%48)\u001b[36m::Bool\u001b[39m\n",
      "\u001b[90m\u001b[57G│     \u001b[1G\u001b[39m\u001b[90m  \u001b[39m└───       goto #16 if not %49\n",
      "\u001b[90m\u001b[57G│     \u001b[1G\u001b[39m\u001b[90m  \u001b[39m15 ─       goto #6\n",
      "\u001b[90m\u001b[57G│     \u001b[1G\u001b[39m\u001b[90m6 \u001b[39m16 ─ %52 = φ (#14 => %32, #5 => 0)\u001b[91m\u001b[1m::Union{Float64, Int64}\u001b[22m\u001b[39m\n",
      "\u001b[90m\u001b[57G│     \u001b[1G\u001b[39m\u001b[90m  \u001b[39m└───       return %52\n"
     ]
    }
   ],
   "source": [
    "@code_warntype mysum3(zeros(3))"
   ]
  },
  {
   "cell_type": "markdown",
   "metadata": {
    "slideshow": {
     "slide_type": "subslide"
    }
   },
   "source": [
    "# Task\n",
    "\n",
    "- Write, a fast and generic `sum` implementation."
   ]
  },
  {
   "cell_type": "markdown",
   "metadata": {
    "slideshow": {
     "slide_type": "slide"
    }
   },
   "source": [
    "# From performance to generic code\n",
    "- Up until now I have been heavily focused on performance\n",
    "- Mostly because I am a low-level person and this excites me!\n",
    "- Performance was the reason why I came to Julia, but I stayed because of the features\n",
    "- Let's talk about composable and generic code."
   ]
  }
 ],
 "metadata": {
  "@webio": {
   "lastCommId": "8459440c56ed42c38c0ee93d1ea3b483",
   "lastKernelId": "4a949a4e-4a95-46a2-8084-c3fbbd525f4b"
  },
  "celltoolbar": "Slideshow",
  "kernelspec": {
   "display_name": "Julia 1.1.1",
   "language": "julia",
   "name": "julia-1.1"
  },
  "language_info": {
   "file_extension": ".jl",
   "mimetype": "application/julia",
   "name": "julia",
   "version": "1.1.1"
  },
  "rise": {
   "scroll": true,
   "theme": "Serif"
  }
 },
 "nbformat": 4,
 "nbformat_minor": 4
}
